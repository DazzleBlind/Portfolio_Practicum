{
  "cells": [
    {
      "cell_type": "markdown",
      "metadata": {
        "id": "u6nZpK7_0iwa"
      },
      "source": [
        "# Защита персональных данных клиентов"
      ]
    },
    {
      "cell_type": "markdown",
      "metadata": {
        "id": "U4tbNhRd0iwa"
      },
      "source": [
        "Нужно защитить данные, чтобы при преобразовании качество моделей машинного обучения не ухудшилось."
      ]
    },
    {
      "cell_type": "markdown",
      "metadata": {
        "id": "kVrd0Mu40iwb"
      },
      "source": [
        "## Импорт библиотек"
      ]
    },
    {
      "cell_type": "code",
      "execution_count": null,
      "metadata": {
        "id": "rX3shd5d0iwb"
      },
      "outputs": [],
      "source": [
        "# Импортируем pandas как pd:\n",
        "import pandas as pd\n",
        "# Импортируем numpy как np:\n",
        "import numpy as np\n",
        "# Импортируем линейную регрессию:\n",
        "from sklearn.linear_model import LinearRegression\n",
        "# Импорт метода для создания выборок:\n",
        "from sklearn.model_selection import train_test_split\n",
        "# Импортируем метрику:\n",
        "from sklearn.metrics import r2_score\n",
        "# Импорт библиотеки для граффиков:\n",
        "import plotly.express as ex"
      ]
    },
    {
      "cell_type": "markdown",
      "metadata": {
        "id": "4cMbkBVy0iwd"
      },
      "source": [
        "## Загрузка данных"
      ]
    },
    {
      "cell_type": "code",
      "execution_count": null,
      "metadata": {
        "id": "BKQ4j8ZO0iwe"
      },
      "outputs": [],
      "source": [
        "# Загружаем данные:\n",
        "try:\n",
        "  df = pd.read_csv('/datasets/insurance.csv')\n",
        "except:\n",
        "  df = pd.read_csv(\"/content/drive/MyDrive/For_data/insurance.csv\")"
      ]
    },
    {
      "cell_type": "code",
      "execution_count": null,
      "metadata": {
        "id": "RjZUCCM40iwe"
      },
      "outputs": [],
      "source": [
        "# Создание функции для изучения данных:\n",
        "def information(data):\n",
        "    print('Общая информация о таблице:')\n",
        "    print(data.info(), '\\n')\n",
        "    display(data.head(), '\\n')\n",
        "    print('Размер таблицы равен:', data.shape, '\\n')\n",
        "    print('Кол-во пропусков:', data.isna().sum(), '\\n')\n",
        "    print('Кол-во явных дубликатов:', data.duplicated().sum(), '\\n')\n",
        "    print('Статистические данные:')\n",
        "    display(data.describe())"
      ]
    },
    {
      "cell_type": "code",
      "execution_count": null,
      "metadata": {
        "id": "lT5E94OI0iwe"
      },
      "outputs": [],
      "source": [
        "# Изучение информации о таблице:\n",
        "information(df)\n",
        "# Создание граффика корреляций:\n",
        "ex.imshow(df.corr())"
      ]
    },
    {
      "cell_type": "code",
      "execution_count": null,
      "metadata": {
        "id": "Jwx9-84i0iwf"
      },
      "outputs": [],
      "source": [
        "# Удаление дубликатов:\n",
        "df = df.drop_duplicates().reset_index(drop=True)\n",
        "# Проверка:\n",
        "df.shape"
      ]
    },
    {
      "cell_type": "markdown",
      "metadata": {
        "id": "wHFxuzHq0iwf"
      },
      "source": [
        "### Вывод:\n",
        "Данные успешно загруженны в переменную df.\n",
        "\n",
        "Пропусков нет. Обнаружены явные дубликаты, удалены. Вполне возможно, что это совпадение и данные на самом деле правидвые. Ткк тут нет id, имени и т.д. что могло идентифицировать и сделать пользователя уникальным.\n",
        "\n",
        "Обнаружена высокая корреляция 0.651 между признаком 'возраст' и целевым признаком 'страховые выплаты'."
      ]
    },
    {
      "cell_type": "markdown",
      "metadata": {
        "id": "g7H-ATb40iwg"
      },
      "source": [
        "## Создание выборок"
      ]
    },
    {
      "cell_type": "code",
      "execution_count": null,
      "metadata": {
        "id": "5pgeSfJ40iwh"
      },
      "outputs": [],
      "source": [
        "# Создание переменной с целевым признаком:\n",
        "df_target = df['Страховые выплаты']\n",
        "# Создание переменной с признаками(особенностями):\n",
        "df_features = df.drop(['Страховые выплаты'], axis=1)"
      ]
    },
    {
      "cell_type": "code",
      "execution_count": null,
      "metadata": {
        "id": "Ag0ngj1Z0iwh"
      },
      "outputs": [],
      "source": [
        "# Разделение исходных данных на выборку для обучения 75%, и 25% для теста:\n",
        "features_train, features_test,\n",
        " target_train, target_test = train_test_split(df_features,\n",
        "                                              df_target,\n",
        "                                              test_size=0.25,\n",
        "                                              random_state=12345)"
      ]
    },
    {
      "cell_type": "code",
      "execution_count": null,
      "metadata": {
        "id": "A7Qt1Xnl0iwi"
      },
      "outputs": [],
      "source": [
        "# Размеры выборок:\n",
        "# Тренировочных:\n",
        "print('Размеры Тренировачных признаков:', features_train.shape, 'Тренировачных целей:', target_train.shape)\n",
        "# Тестовых:\n",
        "print('Размеры Тестовых признаков:', features_test.shape, 'Тестовых целей:', target_test.shape)\n",
        "\n",
        "# display(features_train.head) Сравнивал со значением из пункта Умножение матриц."
      ]
    },
    {
      "cell_type": "markdown",
      "metadata": {
        "id": "B_6Eoq1v0iwi"
      },
      "source": [
        "## Работа с моделью:"
      ]
    },
    {
      "cell_type": "code",
      "execution_count": null,
      "metadata": {
        "scrolled": true,
        "id": "7ywOodH40iwj"
      },
      "outputs": [],
      "source": [
        "# Создание модели:\n",
        "model = LinearRegression()\n",
        "# Обучение модели:\n",
        "model.fit(features_train, target_train)\n",
        "# Предсказания:\n",
        "predictions = model.predict(features_test)\n",
        "# Проверка качества:\n",
        "print('Значение r2 score:',r2_score(target_test, predictions))"
      ]
    },
    {
      "cell_type": "markdown",
      "metadata": {
        "id": "ekZbUAje0iwj"
      },
      "source": [
        "## Умножение матриц"
      ]
    },
    {
      "cell_type": "markdown",
      "metadata": {
        "id": "tLSNbW2u0iwj"
      },
      "source": [
        "Обозначения:\n",
        "\n",
        "- $X$ — матрица признаков (нулевой столбец состоит из единиц)\n",
        "\n",
        "- $y$ — вектор целевого признака\n",
        "\n",
        "- $P$ — матрица, на которую умножаются признаки\n",
        "\n",
        "- $w$ — вектор весов линейной регрессии (нулевой элемент равен сдвигу)\n",
        "\n",
        "- $P$ - обратимая матрица заданного размера"
      ]
    },
    {
      "cell_type": "markdown",
      "metadata": {
        "id": "W_-0_H-Q0iwj"
      },
      "source": [
        "Пребобразованная матрица признаков:\n",
        "\n",
        "$$\n",
        "X1 = XP\n",
        "$$\n",
        "\n",
        "Предсказания:\n",
        "\n",
        "$$\n",
        "a = Xw\n",
        "$$\n",
        "\n",
        "Задача обучения:\n",
        "\n",
        "$$\n",
        "w = \\arg\\min_w MSE(Xw, y)\n",
        "$$\n",
        "\n",
        "Формула обучения:\n",
        "\n",
        "$$\n",
        "w = (X^T X)^{-1} X^T y\n",
        "$$\n",
        "\n",
        "Условие докозательства:\n",
        "\n",
        "$$\n",
        "a = a1\n",
        "$$\n",
        "Работа с преобразованием:\n",
        "\n",
        "$$\n",
        "w1 = (X1^T X1)^{-1} X1^T y\n",
        "$$\n",
        "$$\n",
        "X1 = XP\n",
        "$$\n",
        "$$\n",
        "w1 = ((XP)^T XP)^{-1} (XP)^T y =\n",
        "$$\n",
        "$$\n",
        "= (P^T X^T XP)^{-1} P^T X^T y =\n",
        "$$\n",
        "$$\n",
        "= P^{-1} (X^T X)^{-1} (P^T(^{-1} P^T X^T y =\n",
        "$$\n",
        "$$\n",
        "= P^{-1} (X^T X)^{-1} X^T y\n",
        "$$\n",
        "\n",
        "$$\n",
        "w1 = P^{-1} w\n",
        "$$\n",
        "$$\n",
        "a1 = X1w1 = XP P^{-1} w = Xw\n",
        "$$\n",
        "##### Ткк Xw не зависит от P, то\n",
        "$$\n",
        "a1 = a\n",
        "$$"
      ]
    },
    {
      "cell_type": "code",
      "execution_count": null,
      "metadata": {
        "id": "ueRzDx6e0iwr"
      },
      "outputs": [],
      "source": [
        "# Создание рандомной матрицы. Размер указываем 4x4 ткк у нас 4 признака:\n",
        "matrix = np.random.normal(size=(4, 4))\n",
        "# Поиск обратной/ выдаёт ошибку знчт матрица необратима: P.s. наша обратима.\n",
        "np.linalg.inv(matrix)\n",
        "# Умножение обратимой матрицы на таблицу с признаками\n",
        "features_mod = df_features.dot(matrix)"
      ]
    },
    {
      "cell_type": "code",
      "execution_count": null,
      "metadata": {
        "id": "Val3xVIp0iwx"
      },
      "outputs": [],
      "source": [
        "# Разделение данных на обучающие и тестовые выборки с новыми признаками:\n",
        "features_train, features_test, target_train, target_test = train_test_split(features_mod,\n",
        "                                                                            df_target,\n",
        "                                                                            test_size=0.25,\n",
        "                                                                            random_state=12345)\n",
        "# display(features_train.head) Сравнивал со значением из пункта Создание выборок."
      ]
    },
    {
      "cell_type": "code",
      "execution_count": null,
      "metadata": {
        "id": "hCcariB30iwy"
      },
      "outputs": [],
      "source": [
        "# Создание модели:\n",
        "model_2 = LinearRegression()\n",
        "# Обучение модели:\n",
        "model_2.fit(features_train, target_train)\n",
        "# Предсказания:\n",
        "predictions = model_2.predict(features_test)\n",
        "# Проверка качества:\n",
        "print('Значение r2 score:',r2_score(target_test, predictions))"
      ]
    },
    {
      "cell_type": "markdown",
      "metadata": {
        "id": "vPe2YH2B0iwy"
      },
      "source": [
        "**Ответ:** Не измениться.\n",
        "\n",
        "**Обоснование:**  Как мы можем увидеть из пунка 4 Работа с моделью r2 метрика на неприобразованнных данных была равна '0.4230772749214825' , собственно после приобразования эта метрика изменяется, но только после 8 знака после запятой. Т.е. очень незначительно."
      ]
    },
    {
      "cell_type": "markdown",
      "metadata": {
        "id": "TAneIINP0iwy"
      },
      "source": [
        "## Алгоритм преобразования"
      ]
    },
    {
      "cell_type": "markdown",
      "metadata": {
        "id": "Cfyq9yEW0iwy"
      },
      "source": [
        "**Алгоритм**\n",
        "Можно скалярно умножить данные на рандомную матрицу. Дальше пользоваться преобразованными данными: разделить их для обучения, обучить модель получить предсказания.\n",
        "Матрицу скрыть. Каждый день можно матрицу менять на новую рандомную."
      ]
    },
    {
      "cell_type": "markdown",
      "metadata": {
        "id": "qvu-UKME0iw0"
      },
      "source": [
        "**Обоснование**\n",
        "Матрица на каждом компьютере будет генирироваться своя, следовательно злоумышники не смогут просто взять ввести код для новой рандомной матрицы и подставить её к данным. Также такой алгоритм будет очень малозатратным по времени и мощностям, ведь тут будет выполняться только умножение.\n",
        "\n",
        "Также как мы проверили в пункте Умножение матриц, это практически не влияет на работу Линейной регрессии, значение метрики r2 меняется только после 8 знаков полсе запятой."
      ]
    },
    {
      "cell_type": "markdown",
      "metadata": {
        "id": "tHTH-iPn0iw1"
      },
      "source": [
        "## Проверка алгоритма"
      ]
    },
    {
      "cell_type": "markdown",
      "metadata": {
        "id": "s56UrGMZ0iw1"
      },
      "source": [
        "#### Для проверки просто воссоздадим этот алгоритм:\n",
        "\n",
        "### Пункт 1. Работа с  рандомной обратимой матрицей:"
      ]
    },
    {
      "cell_type": "code",
      "execution_count": null,
      "metadata": {
        "id": "Gn7fUcuE0iw3"
      },
      "outputs": [],
      "source": [
        "# Для проверки просто воссоздадим этот алгоритм:\n",
        "# Создание рандомной матрицы.\n",
        "matrix = np.random.normal(size=(4, 4))\n",
        "# Поиск обратной/ выдаёт ошибку знчт матрица необратима: P.s. наша обратима.\n",
        "np.linalg.inv(matrix)\n",
        "# Умножение обратимой матрицы на таблицу с признаками\n",
        "features_mod = df_features.dot(matrix)"
      ]
    },
    {
      "cell_type": "markdown",
      "metadata": {
        "id": "qfikDS3j0iw5"
      },
      "source": [
        "### Пункт 2. Разделение данных:"
      ]
    },
    {
      "cell_type": "code",
      "execution_count": null,
      "metadata": {
        "id": "CtCPP7kb0iw8"
      },
      "outputs": [],
      "source": [
        "# Разделение данных на обучающие и тестовые выборки с новыми признаками:\n",
        "features_train, features_test, target_train, target_test = train_test_split(features_mod,\n",
        "                                                                            df_target,\n",
        "                                                                            test_size=0.25,\n",
        "                                                                            random_state=12345)"
      ]
    },
    {
      "cell_type": "markdown",
      "metadata": {
        "id": "47WMX4FU0iw-"
      },
      "source": [
        "### Пункт 3. Работа с моделью"
      ]
    },
    {
      "cell_type": "code",
      "execution_count": null,
      "metadata": {
        "id": "q6hCr-G00iw-"
      },
      "outputs": [],
      "source": [
        "# Создание модели:\n",
        "model_2 = LinearRegression()\n",
        "# Обучение модели:\n",
        "model_2.fit(features_train, target_train)\n",
        "# Предсказания:\n",
        "predictions = model_2.predict(features_test)\n",
        "# Проверка качества:\n",
        "print('Значение r2 score:',r2_score(target_test, predictions))"
      ]
    },
    {
      "cell_type": "markdown",
      "metadata": {
        "id": "G_M_Vuni0iw_"
      },
      "source": [
        "### Вывод:\n",
        "Как мы видим значение r2 метрики практически не меняется в сравнение с неприобразованными данными, знчт Алгоритм работает и подходит для решения задачи."
      ]
    },
    {
      "cell_type": "markdown",
      "metadata": {
        "id": "4Ud1M-F_0iw_"
      },
      "source": [
        "# Вывод:\n",
        "## В данном проекте были предприняты следующие шаги:\n",
        "\n",
        "### 1.) Полученна и анализирована общая информация о данных.\n",
        "\n",
        "### 2.) Совершена работа с моделью.\n",
        "\n",
        "### 3.) Дан ответ на вопрос заказчика и обосновано такое решение.\n",
        "\n",
        "### 4.) Предложен и обоснован Алгоритм для решения задачи.\n",
        "\n",
        "### 5.) Проверенна работа алгоритма."
      ]
    }
  ],
  "metadata": {
    "ExecuteTimeLog": [
      {
        "duration": 384,
        "start_time": "2022-07-25T08:45:57.734Z"
      },
      {
        "duration": 87,
        "start_time": "2022-07-25T08:45:59.030Z"
      },
      {
        "duration": 56,
        "start_time": "2022-07-25T08:46:22.552Z"
      },
      {
        "duration": 31,
        "start_time": "2022-07-25T08:59:28.832Z"
      },
      {
        "duration": 64,
        "start_time": "2022-07-25T09:00:12.143Z"
      },
      {
        "duration": 4,
        "start_time": "2022-07-25T09:00:21.264Z"
      },
      {
        "duration": 938,
        "start_time": "2022-07-25T09:00:58.267Z"
      },
      {
        "duration": 29,
        "start_time": "2022-07-25T09:00:59.207Z"
      },
      {
        "duration": 4,
        "start_time": "2022-07-25T09:00:59.237Z"
      },
      {
        "duration": 90,
        "start_time": "2022-07-25T09:00:59.243Z"
      },
      {
        "duration": 656,
        "start_time": "2022-07-25T09:01:19.508Z"
      },
      {
        "duration": 7,
        "start_time": "2022-07-25T09:08:50.893Z"
      },
      {
        "duration": 7,
        "start_time": "2022-07-25T09:09:01.293Z"
      },
      {
        "duration": 4,
        "start_time": "2022-07-25T09:39:59.974Z"
      },
      {
        "duration": 4,
        "start_time": "2022-07-25T09:41:31.610Z"
      },
      {
        "duration": 67,
        "start_time": "2022-07-25T09:44:56.680Z"
      },
      {
        "duration": 13,
        "start_time": "2022-07-25T09:44:57.140Z"
      },
      {
        "duration": 12,
        "start_time": "2022-07-25T09:46:37.763Z"
      },
      {
        "duration": 3,
        "start_time": "2022-07-25T09:48:11.363Z"
      },
      {
        "duration": 4,
        "start_time": "2022-07-25T09:48:30.473Z"
      },
      {
        "duration": 6,
        "start_time": "2022-07-25T09:48:32.232Z"
      },
      {
        "duration": 5,
        "start_time": "2022-07-25T09:49:13.122Z"
      },
      {
        "duration": 9,
        "start_time": "2022-07-25T10:10:22.105Z"
      },
      {
        "duration": 6,
        "start_time": "2022-07-25T10:28:22.485Z"
      },
      {
        "duration": 2,
        "start_time": "2022-07-25T10:28:29.495Z"
      },
      {
        "duration": 10,
        "start_time": "2022-07-25T10:28:44.606Z"
      },
      {
        "duration": 5,
        "start_time": "2022-07-25T10:28:45.685Z"
      },
      {
        "duration": 1210,
        "start_time": "2022-07-25T10:28:59.801Z"
      },
      {
        "duration": 39,
        "start_time": "2022-07-25T10:29:01.014Z"
      },
      {
        "duration": 3,
        "start_time": "2022-07-25T10:29:01.055Z"
      },
      {
        "duration": 429,
        "start_time": "2022-07-25T10:29:01.061Z"
      },
      {
        "duration": 16,
        "start_time": "2022-07-25T10:29:01.492Z"
      },
      {
        "duration": 7,
        "start_time": "2022-07-25T10:29:01.509Z"
      },
      {
        "duration": 207,
        "start_time": "2022-07-25T10:29:01.518Z"
      },
      {
        "duration": 10,
        "start_time": "2022-07-25T10:29:02.014Z"
      },
      {
        "duration": 11,
        "start_time": "2022-07-25T10:29:03.325Z"
      },
      {
        "duration": 10,
        "start_time": "2022-07-25T10:29:05.487Z"
      },
      {
        "duration": 1169,
        "start_time": "2022-07-25T10:32:22.912Z"
      },
      {
        "duration": 27,
        "start_time": "2022-07-25T10:32:24.083Z"
      },
      {
        "duration": 4,
        "start_time": "2022-07-25T10:32:24.111Z"
      },
      {
        "duration": 447,
        "start_time": "2022-07-25T10:32:24.117Z"
      },
      {
        "duration": 6,
        "start_time": "2022-07-25T10:32:24.566Z"
      },
      {
        "duration": 4,
        "start_time": "2022-07-25T10:32:24.800Z"
      },
      {
        "duration": 5,
        "start_time": "2022-07-25T10:32:25.513Z"
      },
      {
        "duration": 6,
        "start_time": "2022-07-25T10:32:26.161Z"
      },
      {
        "duration": 7,
        "start_time": "2022-07-25T10:33:04.791Z"
      },
      {
        "duration": 5,
        "start_time": "2022-07-25T10:33:05.651Z"
      },
      {
        "duration": 9,
        "start_time": "2022-07-25T10:33:08.621Z"
      },
      {
        "duration": 1224,
        "start_time": "2022-07-25T10:58:06.998Z"
      },
      {
        "duration": 28,
        "start_time": "2022-07-25T10:58:08.224Z"
      },
      {
        "duration": 5,
        "start_time": "2022-07-25T10:58:08.253Z"
      },
      {
        "duration": 444,
        "start_time": "2022-07-25T10:58:08.259Z"
      },
      {
        "duration": 8,
        "start_time": "2022-07-25T10:58:08.706Z"
      },
      {
        "duration": 5,
        "start_time": "2022-07-25T10:58:08.716Z"
      },
      {
        "duration": 8,
        "start_time": "2022-07-25T10:58:08.723Z"
      },
      {
        "duration": 5,
        "start_time": "2022-07-25T10:58:08.733Z"
      },
      {
        "duration": 10,
        "start_time": "2022-07-25T10:58:41.470Z"
      },
      {
        "duration": 4,
        "start_time": "2022-07-25T10:58:47.566Z"
      },
      {
        "duration": 5,
        "start_time": "2022-07-25T11:00:11.221Z"
      },
      {
        "duration": 64,
        "start_time": "2022-07-26T07:11:16.730Z"
      },
      {
        "duration": 1280,
        "start_time": "2022-07-26T07:11:21.999Z"
      },
      {
        "duration": 75,
        "start_time": "2022-07-26T07:11:23.281Z"
      },
      {
        "duration": 5,
        "start_time": "2022-07-26T07:11:23.358Z"
      },
      {
        "duration": 626,
        "start_time": "2022-07-26T07:11:23.530Z"
      },
      {
        "duration": 9,
        "start_time": "2022-07-26T07:11:24.158Z"
      },
      {
        "duration": 4,
        "start_time": "2022-07-26T07:11:24.579Z"
      },
      {
        "duration": 7,
        "start_time": "2022-07-26T07:11:25.339Z"
      },
      {
        "duration": 4,
        "start_time": "2022-07-26T07:11:25.598Z"
      },
      {
        "duration": 13,
        "start_time": "2022-07-26T07:11:26.250Z"
      },
      {
        "duration": 6,
        "start_time": "2022-07-26T07:11:27.318Z"
      },
      {
        "duration": 202,
        "start_time": "2022-07-26T07:11:29.889Z"
      },
      {
        "duration": 571,
        "start_time": "2022-07-26T07:12:31.281Z"
      },
      {
        "duration": 92,
        "start_time": "2022-07-26T07:13:05.391Z"
      },
      {
        "duration": 4,
        "start_time": "2022-07-26T07:42:04.670Z"
      },
      {
        "duration": 29,
        "start_time": "2022-07-26T07:42:07.471Z"
      },
      {
        "duration": 4,
        "start_time": "2022-07-26T07:42:07.660Z"
      },
      {
        "duration": 72,
        "start_time": "2022-07-26T07:42:07.711Z"
      },
      {
        "duration": 6,
        "start_time": "2022-07-26T07:42:07.900Z"
      },
      {
        "duration": 5,
        "start_time": "2022-07-26T07:42:08.560Z"
      },
      {
        "duration": 6,
        "start_time": "2022-07-26T07:42:08.745Z"
      },
      {
        "duration": 4,
        "start_time": "2022-07-26T07:42:09.003Z"
      },
      {
        "duration": 8,
        "start_time": "2022-07-26T07:42:10.211Z"
      },
      {
        "duration": 4,
        "start_time": "2022-07-26T07:42:10.890Z"
      },
      {
        "duration": 105,
        "start_time": "2022-07-26T07:42:23.602Z"
      },
      {
        "duration": 111,
        "start_time": "2022-07-26T07:43:28.454Z"
      },
      {
        "duration": 75,
        "start_time": "2022-07-26T07:43:33.161Z"
      },
      {
        "duration": 47,
        "start_time": "2022-07-26T07:43:53.680Z"
      },
      {
        "duration": 61,
        "start_time": "2022-07-26T07:44:20.970Z"
      },
      {
        "duration": 67,
        "start_time": "2022-07-26T07:44:34.060Z"
      },
      {
        "duration": 73,
        "start_time": "2022-07-26T07:44:51.552Z"
      },
      {
        "duration": 5,
        "start_time": "2022-07-26T07:44:59.846Z"
      },
      {
        "duration": 5,
        "start_time": "2022-07-26T07:45:07.243Z"
      },
      {
        "duration": 10,
        "start_time": "2022-07-26T07:46:33.339Z"
      },
      {
        "duration": 12,
        "start_time": "2022-07-26T07:46:37.251Z"
      },
      {
        "duration": 10,
        "start_time": "2022-07-26T07:46:40.960Z"
      },
      {
        "duration": 5,
        "start_time": "2022-07-26T07:48:10.842Z"
      },
      {
        "duration": 4,
        "start_time": "2022-07-26T07:48:33.142Z"
      },
      {
        "duration": 5,
        "start_time": "2022-07-26T07:48:33.951Z"
      },
      {
        "duration": 7,
        "start_time": "2022-07-26T07:48:34.842Z"
      },
      {
        "duration": 5,
        "start_time": "2022-07-26T07:48:56.411Z"
      },
      {
        "duration": 8,
        "start_time": "2022-07-26T07:48:56.524Z"
      },
      {
        "duration": 10,
        "start_time": "2022-07-26T07:48:56.701Z"
      },
      {
        "duration": 10,
        "start_time": "2022-07-26T07:51:41.602Z"
      },
      {
        "duration": 10,
        "start_time": "2022-07-26T07:52:00.571Z"
      },
      {
        "duration": 5,
        "start_time": "2022-07-26T07:52:24.301Z"
      },
      {
        "duration": 11,
        "start_time": "2022-07-26T07:52:29.347Z"
      },
      {
        "duration": 4,
        "start_time": "2022-07-26T07:53:08.324Z"
      },
      {
        "duration": 9,
        "start_time": "2022-07-26T07:53:12.847Z"
      },
      {
        "duration": 5,
        "start_time": "2022-07-26T07:53:16.361Z"
      },
      {
        "duration": 9,
        "start_time": "2022-07-26T07:53:17.571Z"
      },
      {
        "duration": 8,
        "start_time": "2022-07-26T07:53:18.255Z"
      },
      {
        "duration": 6,
        "start_time": "2022-07-26T07:53:38.471Z"
      },
      {
        "duration": 6,
        "start_time": "2022-07-26T07:53:39.512Z"
      },
      {
        "duration": 7,
        "start_time": "2022-07-26T07:54:01.492Z"
      },
      {
        "duration": 4,
        "start_time": "2022-07-26T07:54:04.702Z"
      },
      {
        "duration": 5,
        "start_time": "2022-07-26T07:54:04.912Z"
      },
      {
        "duration": 10,
        "start_time": "2022-07-26T07:54:05.350Z"
      },
      {
        "duration": 4,
        "start_time": "2022-07-26T07:54:08.745Z"
      },
      {
        "duration": 6,
        "start_time": "2022-07-26T07:54:08.924Z"
      },
      {
        "duration": 7,
        "start_time": "2022-07-26T07:54:09.081Z"
      },
      {
        "duration": 7,
        "start_time": "2022-07-26T07:54:13.613Z"
      },
      {
        "duration": 5,
        "start_time": "2022-07-26T07:54:18.191Z"
      },
      {
        "duration": 5,
        "start_time": "2022-07-26T07:54:18.292Z"
      },
      {
        "duration": 8,
        "start_time": "2022-07-26T07:54:19.191Z"
      },
      {
        "duration": 5,
        "start_time": "2022-07-26T07:54:49.052Z"
      },
      {
        "duration": 10,
        "start_time": "2022-07-26T07:54:49.245Z"
      },
      {
        "duration": 5,
        "start_time": "2022-07-26T07:54:51.392Z"
      },
      {
        "duration": 14,
        "start_time": "2022-07-26T07:54:51.401Z"
      },
      {
        "duration": 6,
        "start_time": "2022-07-26T07:54:53.291Z"
      },
      {
        "duration": 7,
        "start_time": "2022-07-26T07:54:53.412Z"
      },
      {
        "duration": 7,
        "start_time": "2022-07-26T07:55:07.461Z"
      },
      {
        "duration": 6,
        "start_time": "2022-07-26T07:55:09.613Z"
      },
      {
        "duration": 7,
        "start_time": "2022-07-26T07:55:09.761Z"
      },
      {
        "duration": 6,
        "start_time": "2022-07-26T07:55:12.813Z"
      },
      {
        "duration": 7,
        "start_time": "2022-07-26T07:55:13.202Z"
      },
      {
        "duration": 4,
        "start_time": "2022-07-26T07:55:15.592Z"
      },
      {
        "duration": 5,
        "start_time": "2022-07-26T07:55:15.761Z"
      },
      {
        "duration": 7,
        "start_time": "2022-07-26T07:55:15.961Z"
      },
      {
        "duration": 5,
        "start_time": "2022-07-26T07:55:19.712Z"
      },
      {
        "duration": 6,
        "start_time": "2022-07-26T07:55:19.846Z"
      },
      {
        "duration": 7,
        "start_time": "2022-07-26T07:55:20.550Z"
      },
      {
        "duration": 5,
        "start_time": "2022-07-26T07:55:23.101Z"
      },
      {
        "duration": 6,
        "start_time": "2022-07-26T07:55:23.272Z"
      },
      {
        "duration": 7,
        "start_time": "2022-07-26T07:55:23.438Z"
      },
      {
        "duration": 5,
        "start_time": "2022-07-26T07:55:25.513Z"
      },
      {
        "duration": 8,
        "start_time": "2022-07-26T07:55:25.624Z"
      },
      {
        "duration": 45,
        "start_time": "2022-07-26T07:55:25.681Z"
      },
      {
        "duration": 6,
        "start_time": "2022-07-26T07:55:34.054Z"
      },
      {
        "duration": 5,
        "start_time": "2022-07-26T07:55:34.245Z"
      },
      {
        "duration": 8,
        "start_time": "2022-07-26T07:55:34.412Z"
      },
      {
        "duration": 5,
        "start_time": "2022-07-26T07:55:37.047Z"
      },
      {
        "duration": 6,
        "start_time": "2022-07-26T07:55:37.383Z"
      },
      {
        "duration": 7,
        "start_time": "2022-07-26T07:55:37.443Z"
      },
      {
        "duration": 5,
        "start_time": "2022-07-26T07:55:40.813Z"
      },
      {
        "duration": 5,
        "start_time": "2022-07-26T07:55:41.002Z"
      },
      {
        "duration": 7,
        "start_time": "2022-07-26T07:55:41.139Z"
      },
      {
        "duration": 5,
        "start_time": "2022-07-26T07:55:43.202Z"
      },
      {
        "duration": 8,
        "start_time": "2022-07-26T07:55:43.323Z"
      },
      {
        "duration": 7,
        "start_time": "2022-07-26T07:55:43.481Z"
      },
      {
        "duration": 5,
        "start_time": "2022-07-26T07:55:47.645Z"
      },
      {
        "duration": 6,
        "start_time": "2022-07-26T07:55:47.846Z"
      },
      {
        "duration": 8,
        "start_time": "2022-07-26T07:55:47.941Z"
      },
      {
        "duration": 4,
        "start_time": "2022-07-26T08:11:54.802Z"
      },
      {
        "duration": 5,
        "start_time": "2022-07-26T08:11:55.950Z"
      },
      {
        "duration": 7,
        "start_time": "2022-07-26T08:12:11.312Z"
      },
      {
        "duration": 5,
        "start_time": "2022-07-26T08:19:29.382Z"
      },
      {
        "duration": 5,
        "start_time": "2022-07-26T08:19:32.461Z"
      },
      {
        "duration": 6,
        "start_time": "2022-07-26T08:19:33.201Z"
      },
      {
        "duration": 4,
        "start_time": "2022-07-26T08:20:46.772Z"
      },
      {
        "duration": 7,
        "start_time": "2022-07-26T08:20:47.411Z"
      },
      {
        "duration": 8,
        "start_time": "2022-07-26T08:20:48.770Z"
      },
      {
        "duration": 1203,
        "start_time": "2022-07-26T08:31:27.309Z"
      },
      {
        "duration": 30,
        "start_time": "2022-07-26T08:31:28.514Z"
      },
      {
        "duration": 5,
        "start_time": "2022-07-26T08:31:28.548Z"
      },
      {
        "duration": 454,
        "start_time": "2022-07-26T08:31:28.555Z"
      },
      {
        "duration": 7,
        "start_time": "2022-07-26T08:31:29.011Z"
      },
      {
        "duration": 4,
        "start_time": "2022-07-26T08:31:29.023Z"
      },
      {
        "duration": 13,
        "start_time": "2022-07-26T08:31:29.028Z"
      },
      {
        "duration": 10,
        "start_time": "2022-07-26T08:31:29.043Z"
      },
      {
        "duration": 17,
        "start_time": "2022-07-26T08:31:29.055Z"
      },
      {
        "duration": 52,
        "start_time": "2022-07-26T08:31:29.074Z"
      },
      {
        "duration": 10,
        "start_time": "2022-07-26T08:31:29.128Z"
      },
      {
        "duration": 92,
        "start_time": "2022-07-26T08:31:29.140Z"
      },
      {
        "duration": 5,
        "start_time": "2022-07-26T08:31:29.234Z"
      },
      {
        "duration": 83,
        "start_time": "2022-07-26T08:31:29.241Z"
      },
      {
        "duration": 9,
        "start_time": "2022-07-26T08:31:29.326Z"
      },
      {
        "duration": 5,
        "start_time": "2022-07-26T08:31:29.336Z"
      },
      {
        "duration": 1131,
        "start_time": "2022-07-26T08:46:20.164Z"
      },
      {
        "duration": 29,
        "start_time": "2022-07-26T08:46:21.297Z"
      },
      {
        "duration": 4,
        "start_time": "2022-07-26T08:46:21.327Z"
      },
      {
        "duration": 9,
        "start_time": "2022-07-26T08:46:40.352Z"
      },
      {
        "duration": 14,
        "start_time": "2022-07-26T08:46:40.363Z"
      },
      {
        "duration": 110,
        "start_time": "2022-07-26T13:19:06.781Z"
      },
      {
        "duration": 1219,
        "start_time": "2022-07-26T13:22:00.176Z"
      },
      {
        "duration": 93,
        "start_time": "2022-07-26T13:22:01.397Z"
      },
      {
        "duration": 4,
        "start_time": "2022-07-26T13:22:01.491Z"
      },
      {
        "duration": 480,
        "start_time": "2022-07-26T13:22:01.496Z"
      },
      {
        "duration": 6,
        "start_time": "2022-07-26T13:22:01.978Z"
      },
      {
        "duration": 7,
        "start_time": "2022-07-26T13:22:01.986Z"
      },
      {
        "duration": 7,
        "start_time": "2022-07-26T13:22:01.994Z"
      },
      {
        "duration": 29,
        "start_time": "2022-07-26T13:22:02.002Z"
      },
      {
        "duration": 17,
        "start_time": "2022-07-26T13:22:02.033Z"
      },
      {
        "duration": 8,
        "start_time": "2022-07-26T13:22:02.052Z"
      },
      {
        "duration": 30,
        "start_time": "2022-07-26T13:22:02.102Z"
      },
      {
        "duration": 99,
        "start_time": "2022-07-26T13:22:02.134Z"
      },
      {
        "duration": 12,
        "start_time": "2022-07-26T13:22:02.234Z"
      },
      {
        "duration": 11,
        "start_time": "2022-07-26T13:22:02.249Z"
      },
      {
        "duration": 71,
        "start_time": "2022-07-26T13:22:02.261Z"
      },
      {
        "duration": 72,
        "start_time": "2022-07-26T13:22:02.334Z"
      },
      {
        "duration": 42,
        "start_time": "2022-07-27T07:19:13.786Z"
      },
      {
        "duration": 1080,
        "start_time": "2022-07-27T07:23:21.338Z"
      },
      {
        "duration": 73,
        "start_time": "2022-07-27T07:23:22.420Z"
      },
      {
        "duration": 4,
        "start_time": "2022-07-27T07:23:22.494Z"
      },
      {
        "duration": 95,
        "start_time": "2022-07-28T05:51:05.996Z"
      }
    ],
    "kernelspec": {
      "display_name": "Python 3 (ipykernel)",
      "language": "python",
      "name": "python3"
    },
    "language_info": {
      "codemirror_mode": {
        "name": "ipython",
        "version": 3
      },
      "file_extension": ".py",
      "mimetype": "text/x-python",
      "name": "python",
      "nbconvert_exporter": "python",
      "pygments_lexer": "ipython3",
      "version": "3.9.5"
    },
    "toc": {
      "base_numbering": 1,
      "nav_menu": {},
      "number_sections": true,
      "sideBar": true,
      "skip_h1_title": true,
      "title_cell": "Содержание",
      "title_sidebar": "Contents",
      "toc_cell": true,
      "toc_position": {},
      "toc_section_display": true,
      "toc_window_display": true
    },
    "colab": {
      "provenance": []
    }
  },
  "nbformat": 4,
  "nbformat_minor": 0
}