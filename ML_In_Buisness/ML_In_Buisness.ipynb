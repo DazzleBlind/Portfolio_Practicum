{
  "cells": [
    {
      "cell_type": "markdown",
      "metadata": {
        "id": "Dio5JlpuFXgb"
      },
      "source": [
        "# Определение наиболее выгодного региона для нефтедобычи\n",
        "Нефтедобывающая компания предоставила пробы нефти в трёх регионах: в каждом 100 000 месторождений, где измерили качество нефти и объём её запасов. Нужно построить модель машинного обучения, которая поможет определить регион, где добыча принесёт наибольшую прибыль. Возможную прибыль и риски необходимо проанализировать техникой Bootstrap.\n",
        "\n",
        "#### Шаги для выбора локации:\n",
        "\n",
        "- в избранном регионе ищут месторождения, для каждого определяют значения признаков\n",
        "- строят модель и оценивают объём запасов\n",
        "- выбирают месторождения с самым высокими оценками значений. Количество месторождений зависит от бюджета компании и стоимости разработки одной скважины\n",
        "прибыль равна суммарной прибыли отобранных месторождений.\n",
        "\n",
        "#### Условия задачи:\n",
        "\n",
        "- для обучения модели подходит только линейная регрессия (остальные — недостаточно предсказуемые).\n",
        "- при разведке региона исследуют 500 точек, из которых выбирают 200 лучших для расчёта прибыли.\n",
        "- бюджет на разработку скважин в регионе — 10 млрд рублей.\n",
        "- один баррель сырья приносит 450 рублей дохода. Доход с каждой единицы продукта составляет 450 тыс. рублей, поскольку объём указан в тысячах баррелей.\n",
        "- после оценки рисков нужно оставить лишь те регионы, в которых вероятность убытков меньше 2.5%. Среди них выбирают регион с наибольшей средней прибылью.\n",
        "\n",
        "####Данные синтетические: детали контрактов и характеристики месторождений не разглашаются."
      ]
    },
    {
      "cell_type": "markdown",
      "metadata": {
        "id": "spwjmDFSFXgb"
      },
      "source": [
        "## Импорт библиотек:"
      ]
    },
    {
      "cell_type": "code",
      "source": [
        "## Для работыс данными:\n",
        "# Импортируем pandas как pd:\n",
        "import pandas as pd\n",
        "# Импортируем numpy как np:\n",
        "import numpy as np\n",
        "# Для создания выборок:\n",
        "from sklearn.model_selection import train_test_split\n",
        "from sklearn.utils import shuffle\n",
        "# Для загрузки файлов(у меня):\n",
        "from google.colab import drive\n",
        "drive.mount('/content/drive', force_remount=True)\n",
        "\n",
        "# Импортируем math:\n",
        "import math\n",
        "\n",
        "## Для граффиков:\n",
        "# Импорт библиотеки matplotlib.pyplot как plt:\n",
        "import matplotlib.pyplot as plt\n",
        "# Импорт библиотек для граффиков:\n",
        "# Импорт библиотеки matplotlib.pyplot как plt:\n",
        "import matplotlib.pyplot as plt\n",
        "# Импорт библиотеки seaborn как sns:\n",
        "import seaborn as sns\n",
        "\n",
        "# Импорт модели:\n",
        "from sklearn.linear_model import LinearRegression\n",
        "\n",
        "# Импорт метрики:\n",
        "from sklearn.metrics import mean_squared_error"
      ],
      "metadata": {
        "id": "BSYCHcZdKZ04"
      },
      "execution_count": null,
      "outputs": []
    },
    {
      "cell_type": "markdown",
      "metadata": {
        "id": "_pTN1fJKFXgd"
      },
      "source": [
        "# Изучение общей информации о данных:"
      ]
    },
    {
      "cell_type": "code",
      "execution_count": null,
      "metadata": {
        "scrolled": false,
        "id": "ol0QbN9xFXgd",
        "outputId": "e3842143-f1f0-4fd3-9ec5-76e3824ed637"
      },
      "outputs": [
        {
          "name": "stdout",
          "output_type": "stream",
          "text": [
            "Размер первой таблицы: (100000, 5)\n",
            "<class 'pandas.core.frame.DataFrame'>\n",
            "RangeIndex: 100000 entries, 0 to 99999\n",
            "Data columns (total 5 columns):\n",
            " #   Column   Non-Null Count   Dtype  \n",
            "---  ------   --------------   -----  \n",
            " 0   id       100000 non-null  object \n",
            " 1   f0       100000 non-null  float64\n",
            " 2   f1       100000 non-null  float64\n",
            " 3   f2       100000 non-null  float64\n",
            " 4   product  100000 non-null  float64\n",
            "dtypes: float64(4), object(1)\n",
            "memory usage: 3.8+ MB\n"
          ]
        },
        {
          "data": {
            "text/html": [
              "<div>\n",
              "<style scoped>\n",
              "    .dataframe tbody tr th:only-of-type {\n",
              "        vertical-align: middle;\n",
              "    }\n",
              "\n",
              "    .dataframe tbody tr th {\n",
              "        vertical-align: top;\n",
              "    }\n",
              "\n",
              "    .dataframe thead th {\n",
              "        text-align: right;\n",
              "    }\n",
              "</style>\n",
              "<table border=\"1\" class=\"dataframe\">\n",
              "  <thead>\n",
              "    <tr style=\"text-align: right;\">\n",
              "      <th></th>\n",
              "      <th>id</th>\n",
              "      <th>f0</th>\n",
              "      <th>f1</th>\n",
              "      <th>f2</th>\n",
              "      <th>product</th>\n",
              "    </tr>\n",
              "  </thead>\n",
              "  <tbody>\n",
              "    <tr>\n",
              "      <th>0</th>\n",
              "      <td>txEyH</td>\n",
              "      <td>0.705745</td>\n",
              "      <td>-0.497823</td>\n",
              "      <td>1.221170</td>\n",
              "      <td>105.280062</td>\n",
              "    </tr>\n",
              "    <tr>\n",
              "      <th>1</th>\n",
              "      <td>2acmU</td>\n",
              "      <td>1.334711</td>\n",
              "      <td>-0.340164</td>\n",
              "      <td>4.365080</td>\n",
              "      <td>73.037750</td>\n",
              "    </tr>\n",
              "    <tr>\n",
              "      <th>2</th>\n",
              "      <td>409Wp</td>\n",
              "      <td>1.022732</td>\n",
              "      <td>0.151990</td>\n",
              "      <td>1.419926</td>\n",
              "      <td>85.265647</td>\n",
              "    </tr>\n",
              "    <tr>\n",
              "      <th>3</th>\n",
              "      <td>iJLyR</td>\n",
              "      <td>-0.032172</td>\n",
              "      <td>0.139033</td>\n",
              "      <td>2.978566</td>\n",
              "      <td>168.620776</td>\n",
              "    </tr>\n",
              "    <tr>\n",
              "      <th>4</th>\n",
              "      <td>Xdl7t</td>\n",
              "      <td>1.988431</td>\n",
              "      <td>0.155413</td>\n",
              "      <td>4.751769</td>\n",
              "      <td>154.036647</td>\n",
              "    </tr>\n",
              "  </tbody>\n",
              "</table>\n",
              "</div>"
            ],
            "text/plain": [
              "      id        f0        f1        f2     product\n",
              "0  txEyH  0.705745 -0.497823  1.221170  105.280062\n",
              "1  2acmU  1.334711 -0.340164  4.365080   73.037750\n",
              "2  409Wp  1.022732  0.151990  1.419926   85.265647\n",
              "3  iJLyR -0.032172  0.139033  2.978566  168.620776\n",
              "4  Xdl7t  1.988431  0.155413  4.751769  154.036647"
            ]
          },
          "metadata": {},
          "output_type": "display_data"
        },
        {
          "name": "stdout",
          "output_type": "stream",
          "text": [
            "Размер второй таблицы: (100000, 5)\n",
            "<class 'pandas.core.frame.DataFrame'>\n",
            "RangeIndex: 100000 entries, 0 to 99999\n",
            "Data columns (total 5 columns):\n",
            " #   Column   Non-Null Count   Dtype  \n",
            "---  ------   --------------   -----  \n",
            " 0   id       100000 non-null  object \n",
            " 1   f0       100000 non-null  float64\n",
            " 2   f1       100000 non-null  float64\n",
            " 3   f2       100000 non-null  float64\n",
            " 4   product  100000 non-null  float64\n",
            "dtypes: float64(4), object(1)\n",
            "memory usage: 3.8+ MB\n"
          ]
        },
        {
          "data": {
            "text/html": [
              "<div>\n",
              "<style scoped>\n",
              "    .dataframe tbody tr th:only-of-type {\n",
              "        vertical-align: middle;\n",
              "    }\n",
              "\n",
              "    .dataframe tbody tr th {\n",
              "        vertical-align: top;\n",
              "    }\n",
              "\n",
              "    .dataframe thead th {\n",
              "        text-align: right;\n",
              "    }\n",
              "</style>\n",
              "<table border=\"1\" class=\"dataframe\">\n",
              "  <thead>\n",
              "    <tr style=\"text-align: right;\">\n",
              "      <th></th>\n",
              "      <th>id</th>\n",
              "      <th>f0</th>\n",
              "      <th>f1</th>\n",
              "      <th>f2</th>\n",
              "      <th>product</th>\n",
              "    </tr>\n",
              "  </thead>\n",
              "  <tbody>\n",
              "    <tr>\n",
              "      <th>0</th>\n",
              "      <td>kBEdx</td>\n",
              "      <td>-15.001348</td>\n",
              "      <td>-8.276000</td>\n",
              "      <td>-0.005876</td>\n",
              "      <td>3.179103</td>\n",
              "    </tr>\n",
              "    <tr>\n",
              "      <th>1</th>\n",
              "      <td>62mP7</td>\n",
              "      <td>14.272088</td>\n",
              "      <td>-3.475083</td>\n",
              "      <td>0.999183</td>\n",
              "      <td>26.953261</td>\n",
              "    </tr>\n",
              "    <tr>\n",
              "      <th>2</th>\n",
              "      <td>vyE1P</td>\n",
              "      <td>6.263187</td>\n",
              "      <td>-5.948386</td>\n",
              "      <td>5.001160</td>\n",
              "      <td>134.766305</td>\n",
              "    </tr>\n",
              "    <tr>\n",
              "      <th>3</th>\n",
              "      <td>KcrkZ</td>\n",
              "      <td>-13.081196</td>\n",
              "      <td>-11.506057</td>\n",
              "      <td>4.999415</td>\n",
              "      <td>137.945408</td>\n",
              "    </tr>\n",
              "    <tr>\n",
              "      <th>4</th>\n",
              "      <td>AHL4O</td>\n",
              "      <td>12.702195</td>\n",
              "      <td>-8.147433</td>\n",
              "      <td>5.004363</td>\n",
              "      <td>134.766305</td>\n",
              "    </tr>\n",
              "  </tbody>\n",
              "</table>\n",
              "</div>"
            ],
            "text/plain": [
              "      id         f0         f1        f2     product\n",
              "0  kBEdx -15.001348  -8.276000 -0.005876    3.179103\n",
              "1  62mP7  14.272088  -3.475083  0.999183   26.953261\n",
              "2  vyE1P   6.263187  -5.948386  5.001160  134.766305\n",
              "3  KcrkZ -13.081196 -11.506057  4.999415  137.945408\n",
              "4  AHL4O  12.702195  -8.147433  5.004363  134.766305"
            ]
          },
          "metadata": {},
          "output_type": "display_data"
        },
        {
          "name": "stdout",
          "output_type": "stream",
          "text": [
            "Размер третей таблицы: (100000, 5)\n",
            "<class 'pandas.core.frame.DataFrame'>\n",
            "RangeIndex: 100000 entries, 0 to 99999\n",
            "Data columns (total 5 columns):\n",
            " #   Column   Non-Null Count   Dtype  \n",
            "---  ------   --------------   -----  \n",
            " 0   id       100000 non-null  object \n",
            " 1   f0       100000 non-null  float64\n",
            " 2   f1       100000 non-null  float64\n",
            " 3   f2       100000 non-null  float64\n",
            " 4   product  100000 non-null  float64\n",
            "dtypes: float64(4), object(1)\n",
            "memory usage: 3.8+ MB\n"
          ]
        },
        {
          "data": {
            "text/html": [
              "<div>\n",
              "<style scoped>\n",
              "    .dataframe tbody tr th:only-of-type {\n",
              "        vertical-align: middle;\n",
              "    }\n",
              "\n",
              "    .dataframe tbody tr th {\n",
              "        vertical-align: top;\n",
              "    }\n",
              "\n",
              "    .dataframe thead th {\n",
              "        text-align: right;\n",
              "    }\n",
              "</style>\n",
              "<table border=\"1\" class=\"dataframe\">\n",
              "  <thead>\n",
              "    <tr style=\"text-align: right;\">\n",
              "      <th></th>\n",
              "      <th>id</th>\n",
              "      <th>f0</th>\n",
              "      <th>f1</th>\n",
              "      <th>f2</th>\n",
              "      <th>product</th>\n",
              "    </tr>\n",
              "  </thead>\n",
              "  <tbody>\n",
              "    <tr>\n",
              "      <th>0</th>\n",
              "      <td>fwXo0</td>\n",
              "      <td>-1.146987</td>\n",
              "      <td>0.963328</td>\n",
              "      <td>-0.828965</td>\n",
              "      <td>27.758673</td>\n",
              "    </tr>\n",
              "    <tr>\n",
              "      <th>1</th>\n",
              "      <td>WJtFt</td>\n",
              "      <td>0.262778</td>\n",
              "      <td>0.269839</td>\n",
              "      <td>-2.530187</td>\n",
              "      <td>56.069697</td>\n",
              "    </tr>\n",
              "    <tr>\n",
              "      <th>2</th>\n",
              "      <td>ovLUW</td>\n",
              "      <td>0.194587</td>\n",
              "      <td>0.289035</td>\n",
              "      <td>-5.586433</td>\n",
              "      <td>62.871910</td>\n",
              "    </tr>\n",
              "    <tr>\n",
              "      <th>3</th>\n",
              "      <td>q6cA6</td>\n",
              "      <td>2.236060</td>\n",
              "      <td>-0.553760</td>\n",
              "      <td>0.930038</td>\n",
              "      <td>114.572842</td>\n",
              "    </tr>\n",
              "    <tr>\n",
              "      <th>4</th>\n",
              "      <td>WPMUX</td>\n",
              "      <td>-0.515993</td>\n",
              "      <td>1.716266</td>\n",
              "      <td>5.899011</td>\n",
              "      <td>149.600746</td>\n",
              "    </tr>\n",
              "  </tbody>\n",
              "</table>\n",
              "</div>"
            ],
            "text/plain": [
              "      id        f0        f1        f2     product\n",
              "0  fwXo0 -1.146987  0.963328 -0.828965   27.758673\n",
              "1  WJtFt  0.262778  0.269839 -2.530187   56.069697\n",
              "2  ovLUW  0.194587  0.289035 -5.586433   62.871910\n",
              "3  q6cA6  2.236060 -0.553760  0.930038  114.572842\n",
              "4  WPMUX -0.515993  1.716266  5.899011  149.600746"
            ]
          },
          "metadata": {},
          "output_type": "display_data"
        }
      ],
      "source": [
        "# загружаем таблицу данных в переменную data_0:\n",
        "try:\n",
        "    data_0 = pd.read_csv('/datasets/geo_data_0.csv')\n",
        "except:\n",
        "    data_0 = pd.read_csv('df = pd.read_csv(\"/content/drive/MyDrive/For_data/geo_data_0.csv\")')\n",
        "# Выводим размер таблицы:\n",
        "print(\"Размер первой таблицы:\", data_0.shape)\n",
        "# Выводим информацию о таблице данных:\n",
        "data_0.info()\n",
        "# Выводим таблицу:\n",
        "display(data_0.head())\n",
        "\n",
        "# загружаем таблицу данных в переменную data_1:\n",
        "try:\n",
        "    data_1 = pd.read_csv('/datasets/geo_data_1.csv')\n",
        "except:\n",
        "    data_1 = pd.read_csv('df = pd.read_csv(\"/content/drive/MyDrive/For_data/geo_data_0.csv\")')\n",
        "# Выводим размер таблицы:\n",
        "print(\"Размер второй таблицы:\", data_1.shape)\n",
        "# Выводим информацию о таблице данных:\n",
        "data_1.info()\n",
        "# Выводим таблицу:\n",
        "display(data_1.head())\n",
        "\n",
        "# загружаем таблицу данных в переменную data_2:\n",
        "try:\n",
        "    data_2 = pd.read_csv('/datasets/geo_data_2.csv')\n",
        "except:\n",
        "    data_2 = pd.read_csv('df = pd.read_csv(\"/content/drive/MyDrive/For_data/geo_data_0.csv\")')\n",
        "# Выводим размер таблицы:\n",
        "print(\"Размер третей таблицы:\", data_2.shape)\n",
        "# Выводим информацию о таблице данных:\n",
        "data_2.info()\n",
        "# Выводим таблицу:\n",
        "display(data_2.head())"
      ]
    },
    {
      "cell_type": "markdown",
      "metadata": {
        "id": "5iAOTIW5FXge"
      },
      "source": [
        "### Вывод:\n",
        "Даны три таблицы. У всех одинаковый размер: 10000 строк, 5 колонок. Во всех 3х таблицах одинаковые колонки с одним значением:\n",
        "\n",
        "id — уникальный идентификатор скважины.\n",
        "\n",
        "f0, f1, f2 — три признака точек (неважно, что они означают, но сами признаки значимы).\n",
        "\n",
        "product — объём запасов в скважине (тыс. баррелей).\n",
        "\n",
        "Пропусков нигде нет."
      ]
    },
    {
      "cell_type": "markdown",
      "metadata": {
        "id": "7nJ4Ks2EFXgj"
      },
      "source": [
        "## Подготовка данных:"
      ]
    },
    {
      "cell_type": "code",
      "execution_count": null,
      "metadata": {
        "id": "5lMO8hhBFXgj"
      },
      "outputs": [],
      "source": [
        "# Создание функции для разделения данных, а также последующего сохранения в списках:\n",
        "def separation_scaling(data):\n",
        "    # Разделяю данные на признаки и цель:\n",
        "    features = data[['f0', 'f1', 'f2']]\n",
        "    target = data['product']\n",
        "\n",
        "    # Разделяю выборки на обучающую и валидационную:\n",
        "    features_train, features_valid, target_train, target_valid = train_test_split(features, target,\n",
        "                                                                                  test_size=0.25, random_state=12345)\n",
        "    # Масштабирую признаки:\n",
        "    pd.options.mode.chained_assignment = None\n",
        "    scaler = StandardScaler()\n",
        "    scaler.fit(features_train)\n",
        "    features_train = scaler.transform(features_train)\n",
        "    features_valid = scaler.transform(features_valid)\n",
        "    return features_train, features_valid, target_train, target_valid"
      ]
    },
    {
      "cell_type": "markdown",
      "metadata": {
        "id": "FG4AjI6nFXgj"
      },
      "source": [
        "Всё будет хранится в списках, таким образом к регионам можно обращаться по индексам(удобно)."
      ]
    },
    {
      "cell_type": "code",
      "execution_count": null,
      "metadata": {
        "id": "4SzmisBLFXgk",
        "outputId": "0f1e5800-1098-42f5-ece1-3e220cd770a8"
      },
      "outputs": [
        {
          "data": {
            "text/html": [
              "<div>\n",
              "<style scoped>\n",
              "    .dataframe tbody tr th:only-of-type {\n",
              "        vertical-align: middle;\n",
              "    }\n",
              "\n",
              "    .dataframe tbody tr th {\n",
              "        vertical-align: top;\n",
              "    }\n",
              "\n",
              "    .dataframe thead th {\n",
              "        text-align: right;\n",
              "    }\n",
              "</style>\n",
              "<table border=\"1\" class=\"dataframe\">\n",
              "  <thead>\n",
              "    <tr style=\"text-align: right;\">\n",
              "      <th></th>\n",
              "      <th>features_train</th>\n",
              "      <th>features_valid</th>\n",
              "      <th>target_train</th>\n",
              "      <th>target_valid</th>\n",
              "    </tr>\n",
              "  </thead>\n",
              "  <tbody>\n",
              "    <tr>\n",
              "      <th>Регион_0</th>\n",
              "      <td>75000</td>\n",
              "      <td>25000</td>\n",
              "      <td>75000</td>\n",
              "      <td>25000</td>\n",
              "    </tr>\n",
              "    <tr>\n",
              "      <th>Регион_1</th>\n",
              "      <td>75000</td>\n",
              "      <td>25000</td>\n",
              "      <td>75000</td>\n",
              "      <td>25000</td>\n",
              "    </tr>\n",
              "    <tr>\n",
              "      <th>Регион_2</th>\n",
              "      <td>75000</td>\n",
              "      <td>25000</td>\n",
              "      <td>75000</td>\n",
              "      <td>25000</td>\n",
              "    </tr>\n",
              "  </tbody>\n",
              "</table>\n",
              "</div>"
            ],
            "text/plain": [
              "          features_train  features_valid  target_train  target_valid\n",
              "Регион_0           75000           25000         75000         25000\n",
              "Регион_1           75000           25000         75000         25000\n",
              "Регион_2           75000           25000         75000         25000"
            ]
          },
          "execution_count": 4,
          "metadata": {},
          "output_type": "execute_result"
        }
      ],
      "source": [
        "# Создаём списки для выборок:\n",
        "features_train = []\n",
        "features_valid = []\n",
        "target_train = []\n",
        "target_valid = []\n",
        "# Список для проверки размера выборок:\n",
        "list_range = []\n",
        "\n",
        "# Заполнение списков по регионам:\n",
        "for data_i in [data_0, data_1, data_2]:\n",
        "    # За\n",
        "    features_train_i, features_valid_i, target_train_i, target_valid_i = separation_scaling(data_i)\n",
        "    # Заполняю списки:\n",
        "    features_train.append(features_train_i)\n",
        "    features_valid.append(features_valid_i)\n",
        "    target_train.append(target_train_i)\n",
        "    target_valid.append(target_valid_i)\n",
        "    # Сохраняю размер выборок:\n",
        "    list_range.append([len(features_train_i), len(features_valid_i), len(target_train_i), len(target_valid_i)])\n",
        "# Проверка размеров выборок:\n",
        "pd.DataFrame(list_range, columns=['features_train', 'features_valid', 'target_train', 'target_valid'],\n",
        "            index=['Регион_0', 'Регион_1', 'Регион_2'])"
      ]
    },
    {
      "cell_type": "markdown",
      "metadata": {
        "id": "h3QjdTcFFXgk"
      },
      "source": [
        "#### Вывод:\n",
        "Выборки успешно подготовлены для работы с ними."
      ]
    },
    {
      "cell_type": "markdown",
      "metadata": {
        "id": "cE6qgpkaFXgk"
      },
      "source": [
        "# Работа с Моделью:\n",
        "Вся работа с моделями и из результатами также будет сохроняться в списках для удобства."
      ]
    },
    {
      "cell_type": "code",
      "execution_count": null,
      "metadata": {
        "scrolled": true,
        "id": "rQno-mtRFXgk",
        "outputId": "8e707dae-2288-4677-f044-0d82dd94c12c"
      },
      "outputs": [
        {
          "name": "stdout",
          "output_type": "stream",
          "text": [
            "Средний запас нефти в Регионе 0  Равен: 92.59\n",
            "RMSE Региона 0 Равно: 37.58\n",
            "\n",
            "Средний запас нефти в Регионе 1  Равен: 68.73\n",
            "RMSE Региона 1 Равно: 0.89\n",
            "\n",
            "Средний запас нефти в Регионе 2  Равен: 94.97\n",
            "RMSE Региона 2 Равно: 40.03\n",
            "\n"
          ]
        }
      ],
      "source": [
        "# Создаем списки для работы:\n",
        "# Предсказания:\n",
        "predictions = []\n",
        "# Результат(RMSE):\n",
        "result = []\n",
        "# Модель:\n",
        "models =[]\n",
        "\n",
        "# Проходимся циклом по регионом собираем предсказания и результаты:\n",
        "for i in [0,1,2]:\n",
        "    # Инициализация модели:\n",
        "    model = LinearRegression()\n",
        "    # Обучение модели:\n",
        "    model.fit(features_train[i], target_train[i])\n",
        "    # Предсказания:\n",
        "    predict = model.predict(features_valid[i])\n",
        "    # Сохранение в списках:\n",
        "    predictions.append(predict)\n",
        "    models.append(model)\n",
        "    result.append([predict.mean().round(2), mean_squared_error(target_valid[i], predict, squared=False).round(2)])\n",
        "    print('Средний запас нефти в Регионе',i,' Равен:', predict.mean().round(2))\n",
        "    print(\"RMSE Региона\", i, 'Равно:', mean_squared_error(target_valid[i], predict, squared=False).round(2))\n",
        "    print('')"
      ]
    },
    {
      "cell_type": "markdown",
      "metadata": {
        "id": "IPOIYnC4FXgl"
      },
      "source": [
        "### Вывод:\n",
        "Регион 1 сильно отличается от остальных, в нём средний запас нефти меньше чем в других, примерно на 25 меньше. Но также RMSE самое малленькое всего 0.89\n",
        "\n",
        "Два остальных региона похожи: В Регионе 0 Средний запас нефти на чуть больше 2, меньше чем в Регионе 2.  \n",
        "    \n",
        "RMSE у них таже отличается незначительно, разница примерно 2.5 ."
      ]
    },
    {
      "cell_type": "markdown",
      "metadata": {
        "id": "jgo0d43aFXgl"
      },
      "source": [
        "## Подготовка к расчёту прибыли:"
      ]
    },
    {
      "cell_type": "code",
      "execution_count": null,
      "metadata": {
        "id": "PBgLab2wFXgl"
      },
      "outputs": [],
      "source": [
        "# Создадим константные переменные:\n",
        "# Бюджет на разработку скважин в регионе:\n",
        "BUDGET = 10000000000\n",
        "# Доход с 1000 баррель нефти:\n",
        "INCOME_FROM_1000_BARR = 450000\n",
        "# Шахты для разведки:\n",
        "MINE_FOR_DEVELOPMENT = 500\n",
        "# Шахты для разроботки:\n",
        "MINE_FOR_EXPLORATION = 200\n",
        "# Вероятность убытков:\n",
        "P_RISK_LOSS = 0.025"
      ]
    },
    {
      "cell_type": "code",
      "execution_count": null,
      "metadata": {
        "id": "QtrJeDsmFXgm",
        "outputId": "912770cd-95af-49ce-f8ac-70448cd2ca93"
      },
      "outputs": [
        {
          "name": "stdout",
          "output_type": "stream",
          "text": [
            "Достаточный обьём сырья для безубыточной работы скважины равен: 111.11111111111111 тыс. барр.\n"
          ]
        }
      ],
      "source": [
        "# Расчёт обьёма(volume) сырья для безубыточной работы:\n",
        "volume = BUDGET / INCOME_FROM_1000_BARR / MINE_FOR_EXPLORATION\n",
        "print('Достаточный обьём сырья для безубыточной работы скважины равен:', volume, 'тыс. барр.')"
      ]
    },
    {
      "cell_type": "markdown",
      "metadata": {
        "id": "Tt2ia2zIFXgm"
      },
      "source": [
        "### Вывод:\n",
        "Для открытия новой скважины её обьём должен состовлять более 111.1 тыс. барр.\n",
        "\n",
        "Следовательно в скважине обьём должен быть выше среднего по региону( в Регионе 1 почти в 2 рааз) Для регионов 0 и 2 это более реально чем для региона 1."
      ]
    },
    {
      "cell_type": "markdown",
      "metadata": {
        "id": "yj08VZrbFXgn"
      },
      "source": [
        "# Расчёт прибыли и рисков:"
      ]
    },
    {
      "cell_type": "code",
      "execution_count": null,
      "metadata": {
        "id": "XKhtUcLfFXgn"
      },
      "outputs": [],
      "source": [
        "# Создание функции для расчёта дохода:\n",
        "def calculation_of_income(target, predict, count):\n",
        "    # Список в Series:\n",
        "    predict =pd.Series(predict, index=predict.index)\n",
        "    # Сортируем, чтобы в начале были шахты с макс обьёмом нефти:\n",
        "    sort_predict = predict.sort_values(ascending=False)\n",
        "    # Берём заданное кол-во шахт, собираем о них фактические данные о запасах нефти:\n",
        "    selected = target[sort_predict.index][:count]\n",
        "    return (selected.sum() * INCOME_FROM_1000_BARR) - BUDGET"
      ]
    },
    {
      "cell_type": "code",
      "execution_count": null,
      "metadata": {
        "scrolled": false,
        "id": "cj7liH6mFXgn"
      },
      "outputs": [],
      "source": [
        "# Создание рандомайзера:\n",
        "random = np.random.RandomState(12345)\n",
        "# Создание списка с результатами:\n",
        "income = []\n",
        "# Создание списка со всеми прибылями по регионам:\n",
        "incomes_from_all = []\n",
        "\n",
        "# Цикл для расчётов по регионам:\n",
        "for i in [0,1,2]:\n",
        "    # Список средней прибыли:\n",
        "    mean_profit = []\n",
        "    for bootstrap in range(1000):\n",
        "        # Преобразуем список в Series для удобства:\n",
        "        predict = pd.Series(predictions[i], index=target_valid[i].index)\n",
        "        # Подвыборка из 500 шахт:\n",
        "        pred_sample = predict.sample(n=MINE_FOR_DEVELOPMENT, replace=True, random_state=random)\n",
        "        # Цель для выбранных шахт:\n",
        "        target_sample = target_valid[i][pred_sample.index]\n",
        "        # Добовляем в список результаты для 200 самых лучших шахт:\n",
        "        mean_profit.append(calculation_of_income(target_sample, pred_sample, MINE_FOR_EXPLORATION))\n",
        "    # Преобразуем список в Series:\n",
        "    mean_profit = pd.Series(mean_profit)#, index=result.index)\n",
        "    # Добовляем в список со всеми прибылями:\n",
        "    incomes_from_all.append(mean_profit)\n",
        "    # Создаем квантили:\n",
        "    upper = mean_profit.quantile(0.975)\n",
        "    lower = mean_profit.quantile(0.025)\n",
        "    # Средняя выручка:\n",
        "    income_mean = mean_profit.mean()\n",
        "    income_mean = round(income_mean,1)\n",
        "    # Убытки:\n",
        "    loss = mean_profit < 0\n",
        "    # Процент убыточных выборок:\n",
        "    loss_risk_percent = loss.sum()/len(loss)*100\n",
        "    # Добовляем результаты в список:\n",
        "    income.append([income_mean, lower, upper, loss_risk_percent])"
      ]
    },
    {
      "cell_type": "code",
      "execution_count": null,
      "metadata": {
        "id": "NYLXBllyFXgo",
        "outputId": "5c396c4e-6b66-47ae-ae16-d2e08b4de96a"
      },
      "outputs": [
        {
          "data": {
            "text/html": [
              "<div>\n",
              "<style scoped>\n",
              "    .dataframe tbody tr th:only-of-type {\n",
              "        vertical-align: middle;\n",
              "    }\n",
              "\n",
              "    .dataframe tbody tr th {\n",
              "        vertical-align: top;\n",
              "    }\n",
              "\n",
              "    .dataframe thead th {\n",
              "        text-align: right;\n",
              "    }\n",
              "</style>\n",
              "<table border=\"1\" class=\"dataframe\">\n",
              "  <thead>\n",
              "    <tr style=\"text-align: right;\">\n",
              "      <th></th>\n",
              "      <th>Средняя Прибыль</th>\n",
              "      <th>Квантиль 2.5</th>\n",
              "      <th>Квантиль 97.5</th>\n",
              "      <th>Риск убытка</th>\n",
              "    </tr>\n",
              "  </thead>\n",
              "  <tbody>\n",
              "    <tr>\n",
              "      <th>0</th>\n",
              "      <td>425938526.9</td>\n",
              "      <td>-1.020901e+08</td>\n",
              "      <td>9.479764e+08</td>\n",
              "      <td>6.0</td>\n",
              "    </tr>\n",
              "    <tr>\n",
              "      <th>1</th>\n",
              "      <td>518259493.7</td>\n",
              "      <td>1.281232e+08</td>\n",
              "      <td>9.536130e+08</td>\n",
              "      <td>0.3</td>\n",
              "    </tr>\n",
              "    <tr>\n",
              "      <th>2</th>\n",
              "      <td>420194005.3</td>\n",
              "      <td>-1.158526e+08</td>\n",
              "      <td>9.896299e+08</td>\n",
              "      <td>6.2</td>\n",
              "    </tr>\n",
              "  </tbody>\n",
              "</table>\n",
              "</div>"
            ],
            "text/plain": [
              "   Средняя Прибыль  Квантиль 2.5  Квантиль 97.5  Риск убытка\n",
              "0      425938526.9 -1.020901e+08   9.479764e+08          6.0\n",
              "1      518259493.7  1.281232e+08   9.536130e+08          0.3\n",
              "2      420194005.3 -1.158526e+08   9.896299e+08          6.2"
            ]
          },
          "metadata": {},
          "output_type": "display_data"
        }
      ],
      "source": [
        "# Преобразуем список в таблицу:\n",
        "income = pd.DataFrame(income, columns=['Средняя Прибыль', 'Квантиль 2.5', 'Квантиль 97.5', 'Риск убытка'])\n",
        "display(income)"
      ]
    },
    {
      "cell_type": "code",
      "execution_count": null,
      "metadata": {
        "id": "SKM2tKi9FXgq",
        "outputId": "abce0615-dfb7-4d2b-b45b-b10a56d54ce5"
      },
      "outputs": [
        {
          "name": "stderr",
          "output_type": "stream",
          "text": [
            "/opt/conda/lib/python3.9/site-packages/seaborn/categorical.py:1296: UserWarning: 10.3% of the points cannot be placed; you may want to decrease the size of the markers or use stripplot.\n",
            "  warnings.warn(msg, UserWarning)\n"
          ]
        },
        {
          "data": {
            "image/png": "[encoded data removed]",
            "text/plain": [
              "<Figure size 1008x504 with 1 Axes>"
            ]
          },
          "metadata": {},
          "output_type": "display_data"
        }
      ],
      "source": [
        "# Создание граффика для наглядности:\n",
        "sns.set_style('whitegrid')\n",
        "plt.figure(figsize=(14, 7))\n",
        "boxplot = sns.boxplot(data=incomes_from_all, whis=[2.5, 97.5])\n",
        "# Детализация граффика:\n",
        "boxplot.axes.set_title('Возможная прибыль по регионам', fontsize=16)\n",
        "sns.swarmplot(data=incomes_from_all)\n",
        "boxplot.set_ylabel('Размер прибыли', fontsize=10)\n",
        "boxplot.set_xlabel('Регионы', fontsize=14)\n",
        "#boxplot.xtickslabels(['Регион 0', 'Регион 1' , 'Регион 2'])\n",
        "plt.show()"
      ]
    },
    {
      "cell_type": "markdown",
      "metadata": {
        "id": "sze9HeP3FXgr"
      },
      "source": [
        "## Вывод:\n",
        "Регион 0 НЕ является самым убыточным. Шанс убытков всего 6% Однако это не входит в нужный порог, это второй регион по 'окупаемости'.\n",
        "\n",
        "Сравнивая с Регионом 2 , медиана региона 0 всё же выше, следовательно больше окупаемость.\n",
        "    \n",
        "Регион 1 - Он является наимение убыточным регионом шанс убытка всего 0.3%, Также это видно по граффику, практически все значения находятся в пределах прибыли.  \n",
        "\n",
        "Регион 2 - Он вляется регионом с небольшим кол-вом убыточности 6.3% ,Однако это не входит в нужный порог. Но это самый убыточный регион из всех. Разбросы в этом регионе больше чем в любом другом, а также медиана наимение сконцентрирована посравнению с другими регоинами.\n",
        "    \n",
        "По итогу Регион 1 самый лучший на мой выбор."
      ]
    },
    {
      "cell_type": "markdown",
      "metadata": {
        "id": "KXfByYNdFXgr"
      },
      "source": [
        "# Вывод:\n",
        "## По моему мнению лучшим регионом для разработки будет 'Регион 1'.\n",
        "#### Потому, что он является наимение убыточным из 3х регионов, риск убытка всего 0.3%. А также довольно прибыльным."
      ]
    },
    {
      "cell_type": "markdown",
      "metadata": {
        "id": "ProCYOp2FXgs"
      },
      "source": [
        "## В данном проекте были предприняты следующие шаги:\n",
        "\n",
        "### 1.) Получена и проанализирована общая информация о данных.\n",
        "\n",
        "### 2.) Подготовлены данные для работы.\n",
        "\n",
        "### 3.) Проведена работа с моделью.\n",
        "\n",
        "### 4.) Произведён расчёт прибыли и рисков.\n",
        "\n",
        "### 5.) Выбран лучший регион для разработки"
      ]
    }
  ],
  "metadata": {
    "ExecuteTimeLog": [
      {
        "duration": 1344,
        "start_time": "2022-06-19T05:36:27.698Z"
      },
      {
        "duration": 68,
        "start_time": "2022-06-19T05:36:29.044Z"
      },
      {
        "duration": 5,
        "start_time": "2022-06-19T05:36:29.113Z"
      },
      {
        "duration": 25,
        "start_time": "2022-06-19T05:36:29.119Z"
      },
      {
        "duration": 30,
        "start_time": "2022-06-19T05:37:07.776Z"
      },
      {
        "duration": 27,
        "start_time": "2022-06-19T05:37:35.125Z"
      },
      {
        "duration": 1620,
        "start_time": "2022-06-20T08:26:17.372Z"
      },
      {
        "duration": 183,
        "start_time": "2022-06-20T08:26:18.995Z"
      },
      {
        "duration": 5,
        "start_time": "2022-06-20T08:26:19.180Z"
      },
      {
        "duration": 33,
        "start_time": "2022-06-20T08:26:19.186Z"
      },
      {
        "duration": 31,
        "start_time": "2022-06-20T08:26:19.222Z"
      },
      {
        "duration": 5,
        "start_time": "2022-06-20T08:26:19.255Z"
      },
      {
        "duration": 10,
        "start_time": "2022-06-20T08:26:19.262Z"
      },
      {
        "duration": 7,
        "start_time": "2022-06-20T08:26:19.274Z"
      },
      {
        "duration": 65,
        "start_time": "2022-06-20T08:26:19.283Z"
      },
      {
        "duration": 5,
        "start_time": "2022-06-20T08:26:19.349Z"
      },
      {
        "duration": 308,
        "start_time": "2022-06-20T08:26:19.356Z"
      },
      {
        "duration": 188,
        "start_time": "2022-06-20T08:26:19.666Z"
      },
      {
        "duration": 7409,
        "start_time": "2022-06-20T08:26:23.776Z"
      },
      {
        "duration": 1031,
        "start_time": "2022-06-20T08:26:36.279Z"
      },
      {
        "duration": 506,
        "start_time": "2022-06-20T08:26:39.775Z"
      },
      {
        "duration": 5,
        "start_time": "2022-06-20T08:27:00.462Z"
      },
      {
        "duration": 4,
        "start_time": "2022-06-20T08:27:10.810Z"
      },
      {
        "duration": 126,
        "start_time": "2022-06-20T08:27:14.400Z"
      },
      {
        "duration": 19,
        "start_time": "2022-06-20T08:27:24.398Z"
      },
      {
        "duration": 11,
        "start_time": "2022-06-20T08:29:54.506Z"
      },
      {
        "duration": 17,
        "start_time": "2022-06-20T08:30:42.465Z"
      },
      {
        "duration": 16,
        "start_time": "2022-06-20T08:31:05.767Z"
      },
      {
        "duration": 11,
        "start_time": "2022-06-20T08:31:18.165Z"
      },
      {
        "duration": 16,
        "start_time": "2022-06-20T08:31:26.464Z"
      },
      {
        "duration": 17,
        "start_time": "2022-06-20T08:31:31.624Z"
      },
      {
        "duration": 12,
        "start_time": "2022-06-20T08:33:10.502Z"
      },
      {
        "duration": 17,
        "start_time": "2022-06-20T08:33:15.717Z"
      },
      {
        "duration": 17,
        "start_time": "2022-06-20T08:33:24.318Z"
      },
      {
        "duration": 27,
        "start_time": "2022-06-20T08:33:31.051Z"
      },
      {
        "duration": 19,
        "start_time": "2022-06-20T08:33:51.213Z"
      },
      {
        "duration": 13,
        "start_time": "2022-06-20T08:33:58.476Z"
      },
      {
        "duration": 16,
        "start_time": "2022-06-20T08:35:01.394Z"
      },
      {
        "duration": 30,
        "start_time": "2022-06-20T08:35:09.515Z"
      },
      {
        "duration": 4,
        "start_time": "2022-06-20T08:36:20.969Z"
      },
      {
        "duration": 8,
        "start_time": "2022-06-20T08:36:23.977Z"
      },
      {
        "duration": 6,
        "start_time": "2022-06-20T08:36:31.857Z"
      },
      {
        "duration": 16,
        "start_time": "2022-06-20T08:36:34.224Z"
      },
      {
        "duration": 16,
        "start_time": "2022-06-20T08:36:46.528Z"
      },
      {
        "duration": 5,
        "start_time": "2022-06-20T08:37:08.632Z"
      },
      {
        "duration": 8,
        "start_time": "2022-06-20T08:37:14.487Z"
      },
      {
        "duration": 602,
        "start_time": "2022-06-20T08:53:00.160Z"
      },
      {
        "duration": 88,
        "start_time": "2022-06-20T08:53:06.111Z"
      },
      {
        "duration": 129,
        "start_time": "2022-06-20T08:53:09.854Z"
      },
      {
        "duration": 53,
        "start_time": "2022-06-22T17:24:47.589Z"
      },
      {
        "duration": 2107,
        "start_time": "2022-06-22T17:24:50.554Z"
      },
      {
        "duration": 100,
        "start_time": "2022-06-22T17:24:52.663Z"
      },
      {
        "duration": 0,
        "start_time": "2022-06-22T17:24:52.765Z"
      },
      {
        "duration": 0,
        "start_time": "2022-06-22T17:24:52.766Z"
      },
      {
        "duration": 0,
        "start_time": "2022-06-22T17:24:52.768Z"
      },
      {
        "duration": 0,
        "start_time": "2022-06-22T17:24:52.769Z"
      },
      {
        "duration": 0,
        "start_time": "2022-06-22T17:24:52.770Z"
      },
      {
        "duration": 0,
        "start_time": "2022-06-22T17:24:52.771Z"
      },
      {
        "duration": 0,
        "start_time": "2022-06-22T17:24:52.772Z"
      },
      {
        "duration": 0,
        "start_time": "2022-06-22T17:24:52.773Z"
      },
      {
        "duration": 0,
        "start_time": "2022-06-22T17:24:52.774Z"
      },
      {
        "duration": 7,
        "start_time": "2022-06-22T17:25:04.168Z"
      },
      {
        "duration": 148,
        "start_time": "2022-06-22T17:25:04.177Z"
      },
      {
        "duration": 0,
        "start_time": "2022-06-22T17:25:04.328Z"
      },
      {
        "duration": 0,
        "start_time": "2022-06-22T17:25:04.328Z"
      },
      {
        "duration": 0,
        "start_time": "2022-06-22T17:25:04.329Z"
      },
      {
        "duration": 0,
        "start_time": "2022-06-22T17:25:04.330Z"
      },
      {
        "duration": 0,
        "start_time": "2022-06-22T17:25:04.331Z"
      },
      {
        "duration": 0,
        "start_time": "2022-06-22T17:25:04.332Z"
      },
      {
        "duration": 0,
        "start_time": "2022-06-22T17:25:04.334Z"
      },
      {
        "duration": 0,
        "start_time": "2022-06-22T17:25:04.335Z"
      },
      {
        "duration": 0,
        "start_time": "2022-06-22T17:25:04.336Z"
      },
      {
        "duration": 1144,
        "start_time": "2022-06-22T17:25:15.075Z"
      },
      {
        "duration": 5,
        "start_time": "2022-06-22T17:25:17.654Z"
      },
      {
        "duration": 516,
        "start_time": "2022-06-22T17:25:17.661Z"
      },
      {
        "duration": 4,
        "start_time": "2022-06-22T17:25:18.178Z"
      },
      {
        "duration": 76,
        "start_time": "2022-06-22T17:25:18.184Z"
      },
      {
        "duration": 202,
        "start_time": "2022-06-22T17:25:18.263Z"
      },
      {
        "duration": 86,
        "start_time": "2022-06-22T17:25:18.542Z"
      },
      {
        "duration": 35,
        "start_time": "2022-06-22T17:25:18.634Z"
      },
      {
        "duration": 12,
        "start_time": "2022-06-22T17:25:18.670Z"
      },
      {
        "duration": 4823,
        "start_time": "2022-06-22T17:25:18.684Z"
      },
      {
        "duration": 10,
        "start_time": "2022-06-22T17:25:23.508Z"
      },
      {
        "duration": 4074,
        "start_time": "2022-06-22T17:25:23.519Z"
      },
      {
        "duration": 27,
        "start_time": "2022-06-22T17:25:41.622Z"
      },
      {
        "duration": 11,
        "start_time": "2022-06-22T17:25:54.461Z"
      },
      {
        "duration": 20,
        "start_time": "2022-06-22T17:26:00.942Z"
      },
      {
        "duration": 13,
        "start_time": "2022-06-22T17:26:05.195Z"
      },
      {
        "duration": 24,
        "start_time": "2022-06-22T17:26:19.925Z"
      },
      {
        "duration": 12,
        "start_time": "2022-06-22T17:26:24.691Z"
      },
      {
        "duration": 10,
        "start_time": "2022-06-22T17:26:26.557Z"
      },
      {
        "duration": 4,
        "start_time": "2022-06-22T17:27:23.715Z"
      },
      {
        "duration": 89,
        "start_time": "2022-06-22T17:27:28.185Z"
      },
      {
        "duration": 105,
        "start_time": "2022-06-22T17:27:30.959Z"
      },
      {
        "duration": 8,
        "start_time": "2022-06-22T17:27:43.722Z"
      },
      {
        "duration": 57,
        "start_time": "2022-06-22T17:27:44.263Z"
      },
      {
        "duration": 175,
        "start_time": "2022-06-22T17:27:45.374Z"
      },
      {
        "duration": 6,
        "start_time": "2022-06-22T17:27:52.192Z"
      },
      {
        "duration": 52,
        "start_time": "2022-06-22T17:27:52.964Z"
      },
      {
        "duration": 224,
        "start_time": "2022-06-22T17:27:53.212Z"
      },
      {
        "duration": 77,
        "start_time": "2022-06-22T17:27:53.462Z"
      },
      {
        "duration": 16,
        "start_time": "2022-06-22T17:27:53.557Z"
      },
      {
        "duration": 4,
        "start_time": "2022-06-22T17:27:53.795Z"
      },
      {
        "duration": 4738,
        "start_time": "2022-06-22T17:27:53.878Z"
      },
      {
        "duration": 19,
        "start_time": "2022-06-22T17:27:58.618Z"
      },
      {
        "duration": 3955,
        "start_time": "2022-06-22T17:27:58.639Z"
      },
      {
        "duration": 9,
        "start_time": "2022-06-22T20:17:28.535Z"
      },
      {
        "duration": 1538,
        "start_time": "2022-06-22T20:18:34.079Z"
      },
      {
        "duration": 1859,
        "start_time": "2022-06-22T20:18:35.619Z"
      },
      {
        "duration": 6,
        "start_time": "2022-06-22T20:18:37.480Z"
      },
      {
        "duration": 78,
        "start_time": "2022-06-22T20:18:37.488Z"
      },
      {
        "duration": 175,
        "start_time": "2022-06-22T20:18:37.568Z"
      },
      {
        "duration": 6,
        "start_time": "2022-06-22T20:18:37.745Z"
      },
      {
        "duration": 5,
        "start_time": "2022-06-22T20:18:37.842Z"
      },
      {
        "duration": 12,
        "start_time": "2022-06-22T20:18:37.848Z"
      },
      {
        "duration": 4170,
        "start_time": "2022-06-22T20:18:37.862Z"
      },
      {
        "duration": 14,
        "start_time": "2022-06-22T20:18:42.034Z"
      },
      {
        "duration": 2580,
        "start_time": "2022-06-22T20:18:42.050Z"
      },
      {
        "duration": 4,
        "start_time": "2022-06-22T20:22:49.070Z"
      },
      {
        "duration": 3,
        "start_time": "2022-06-22T20:24:23.980Z"
      },
      {
        "duration": 4435,
        "start_time": "2022-06-22T20:24:37.058Z"
      },
      {
        "duration": 10,
        "start_time": "2022-06-22T20:24:41.496Z"
      },
      {
        "duration": 2480,
        "start_time": "2022-06-22T20:24:50.937Z"
      }
    ],
    "kernelspec": {
      "display_name": "Python 3 (ipykernel)",
      "language": "python",
      "name": "python3"
    },
    "language_info": {
      "codemirror_mode": {
        "name": "ipython",
        "version": 3
      },
      "file_extension": ".py",
      "mimetype": "text/x-python",
      "name": "python",
      "nbconvert_exporter": "python",
      "pygments_lexer": "ipython3",
      "version": "3.9.5"
    },
    "toc": {
      "base_numbering": 1,
      "nav_menu": {},
      "number_sections": true,
      "sideBar": true,
      "skip_h1_title": true,
      "title_cell": "Table of Contents",
      "title_sidebar": "Contents",
      "toc_cell": false,
      "toc_position": {},
      "toc_section_display": true,
      "toc_window_display": false
    },
    "colab": {
      "provenance": []
    }
  },
  "nbformat": 4,
  "nbformat_minor": 0
}
