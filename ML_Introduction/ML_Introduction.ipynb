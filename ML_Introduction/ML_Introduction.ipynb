{
  "cells": [
    {
      "cell_type": "markdown",
      "metadata": {
        "id": "3di18LCE4Qg7"
      },
      "source": [
        "# Описание проекта:\n",
        "#### На основе данных о поведении клиентов необходимо построить модель классификации, способную подобрать для клиентов телеком компании наиболее подходящий тариф. Метрика accuracy должна быть не меньше 0.75.\n",
        "\n",
        "В нашем распоряжении данные о поведении клиентов, которые уже перешли на эти тарифы.\n",
        "\n"
      ]
    },
    {
      "cell_type": "markdown",
      "metadata": {
        "id": "O7y4Hf_64Qg8"
      },
      "source": [
        "## Импорт библиотек:"
      ]
    },
    {
      "cell_type": "code",
      "execution_count": null,
      "metadata": {
        "id": "Gh2wLBGi4Qg8"
      },
      "outputs": [],
      "source": [
        "# Импортируем pandas как pd:\n",
        "import pandas as pd\n",
        "# Импортируем numpy как np:\n",
        "import numpy as np\n",
        "# Импортируем math:\n",
        "import math\n",
        "# Импорт библиотеки matplotlib.pyplot как plt:\n",
        "import matplotlib.pyplot as plt\n",
        "# Импорт разных моделей обучения, метод разделения данных, и метод проверки обучения:\n",
        "from sklearn.tree import DecisionTreeClassifier\n",
        "from sklearn.metrics import accuracy_score\n",
        "from sklearn.model_selection import train_test_split\n",
        "from sklearn.ensemble import RandomForestClassifier\n",
        "from sklearn.linear_model import LogisticRegression"
      ]
    },
    {
      "cell_type": "markdown",
      "metadata": {
        "id": "HnvSf1xT4QhC"
      },
      "source": [
        "# Изучение общей информации о данных:"
      ]
    },
    {
      "cell_type": "code",
      "execution_count": null,
      "metadata": {
        "id": "0RoU6gJ84QhC",
        "outputId": "1396511f-c7e9-48ac-b48e-6c502904d528"
      },
      "outputs": [
        {
          "name": "stdout",
          "output_type": "stream",
          "text": [
            "<class 'pandas.core.frame.DataFrame'>\n",
            "RangeIndex: 3214 entries, 0 to 3213\n",
            "Data columns (total 5 columns):\n",
            " #   Column    Non-Null Count  Dtype  \n",
            "---  ------    --------------  -----  \n",
            " 0   calls     3214 non-null   float64\n",
            " 1   minutes   3214 non-null   float64\n",
            " 2   messages  3214 non-null   float64\n",
            " 3   mb_used   3214 non-null   float64\n",
            " 4   is_ultra  3214 non-null   int64  \n",
            "dtypes: float64(4), int64(1)\n",
            "memory usage: 125.7 KB\n"
          ]
        },
        {
          "data": {
            "text/html": [
              "<div>\n",
              "<style scoped>\n",
              "    .dataframe tbody tr th:only-of-type {\n",
              "        vertical-align: middle;\n",
              "    }\n",
              "\n",
              "    .dataframe tbody tr th {\n",
              "        vertical-align: top;\n",
              "    }\n",
              "\n",
              "    .dataframe thead th {\n",
              "        text-align: right;\n",
              "    }\n",
              "</style>\n",
              "<table border=\"1\" class=\"dataframe\">\n",
              "  <thead>\n",
              "    <tr style=\"text-align: right;\">\n",
              "      <th></th>\n",
              "      <th>calls</th>\n",
              "      <th>minutes</th>\n",
              "      <th>messages</th>\n",
              "      <th>mb_used</th>\n",
              "      <th>is_ultra</th>\n",
              "    </tr>\n",
              "  </thead>\n",
              "  <tbody>\n",
              "    <tr>\n",
              "      <th>0</th>\n",
              "      <td>40.0</td>\n",
              "      <td>311.90</td>\n",
              "      <td>83.0</td>\n",
              "      <td>19915.42</td>\n",
              "      <td>0</td>\n",
              "    </tr>\n",
              "    <tr>\n",
              "      <th>1</th>\n",
              "      <td>85.0</td>\n",
              "      <td>516.75</td>\n",
              "      <td>56.0</td>\n",
              "      <td>22696.96</td>\n",
              "      <td>0</td>\n",
              "    </tr>\n",
              "    <tr>\n",
              "      <th>2</th>\n",
              "      <td>77.0</td>\n",
              "      <td>467.66</td>\n",
              "      <td>86.0</td>\n",
              "      <td>21060.45</td>\n",
              "      <td>0</td>\n",
              "    </tr>\n",
              "    <tr>\n",
              "      <th>3</th>\n",
              "      <td>106.0</td>\n",
              "      <td>745.53</td>\n",
              "      <td>81.0</td>\n",
              "      <td>8437.39</td>\n",
              "      <td>1</td>\n",
              "    </tr>\n",
              "    <tr>\n",
              "      <th>4</th>\n",
              "      <td>66.0</td>\n",
              "      <td>418.74</td>\n",
              "      <td>1.0</td>\n",
              "      <td>14502.75</td>\n",
              "      <td>0</td>\n",
              "    </tr>\n",
              "    <tr>\n",
              "      <th>...</th>\n",
              "      <td>...</td>\n",
              "      <td>...</td>\n",
              "      <td>...</td>\n",
              "      <td>...</td>\n",
              "      <td>...</td>\n",
              "    </tr>\n",
              "    <tr>\n",
              "      <th>3209</th>\n",
              "      <td>122.0</td>\n",
              "      <td>910.98</td>\n",
              "      <td>20.0</td>\n",
              "      <td>35124.90</td>\n",
              "      <td>1</td>\n",
              "    </tr>\n",
              "    <tr>\n",
              "      <th>3210</th>\n",
              "      <td>25.0</td>\n",
              "      <td>190.36</td>\n",
              "      <td>0.0</td>\n",
              "      <td>3275.61</td>\n",
              "      <td>0</td>\n",
              "    </tr>\n",
              "    <tr>\n",
              "      <th>3211</th>\n",
              "      <td>97.0</td>\n",
              "      <td>634.44</td>\n",
              "      <td>70.0</td>\n",
              "      <td>13974.06</td>\n",
              "      <td>0</td>\n",
              "    </tr>\n",
              "    <tr>\n",
              "      <th>3212</th>\n",
              "      <td>64.0</td>\n",
              "      <td>462.32</td>\n",
              "      <td>90.0</td>\n",
              "      <td>31239.78</td>\n",
              "      <td>0</td>\n",
              "    </tr>\n",
              "    <tr>\n",
              "      <th>3213</th>\n",
              "      <td>80.0</td>\n",
              "      <td>566.09</td>\n",
              "      <td>6.0</td>\n",
              "      <td>29480.52</td>\n",
              "      <td>1</td>\n",
              "    </tr>\n",
              "  </tbody>\n",
              "</table>\n",
              "<p>3214 rows × 5 columns</p>\n",
              "</div>"
            ],
            "text/plain": [
              "      calls  minutes  messages   mb_used  is_ultra\n",
              "0      40.0   311.90      83.0  19915.42         0\n",
              "1      85.0   516.75      56.0  22696.96         0\n",
              "2      77.0   467.66      86.0  21060.45         0\n",
              "3     106.0   745.53      81.0   8437.39         1\n",
              "4      66.0   418.74       1.0  14502.75         0\n",
              "...     ...      ...       ...       ...       ...\n",
              "3209  122.0   910.98      20.0  35124.90         1\n",
              "3210   25.0   190.36       0.0   3275.61         0\n",
              "3211   97.0   634.44      70.0  13974.06         0\n",
              "3212   64.0   462.32      90.0  31239.78         0\n",
              "3213   80.0   566.09       6.0  29480.52         1\n",
              "\n",
              "[3214 rows x 5 columns]"
            ]
          },
          "metadata": {},
          "output_type": "display_data"
        }
      ],
      "source": [
        "# загружаем таблицу данных в переменную data:\n",
        "try:\n",
        "    data = pd.read_csv('datasets/users_behavior.csv')\n",
        "except:\n",
        "    data = pd.read_csv(\"/content/drive/MyDrive/For_data/users_behavior.csv\")\n",
        "# Выводим информацию о таблице данных:\n",
        "data.info()\n",
        "# Выводим таблицу:\n",
        "display(data)"
      ]
    },
    {
      "cell_type": "markdown",
      "metadata": {
        "id": "pCx6t1TW4QhE"
      },
      "source": [
        "### Вывод:\n",
        "Дана таблица с 5 столбцами. Пропуски отсутсвуют во всей таблице, все данные численные.\n",
        "\n",
        "сalls — количество звонков\n",
        "\n",
        "minutes — суммарная длительность звонков в минутах\n",
        "\n",
        "messages — количество sms-сообщений\n",
        "\n",
        "mb_used — израсходованный интернет-трафик в Мб\n",
        "\n",
        "is_ultra — каким тарифом пользовался в течение месяца («Ультра» — 1, «Смарт» — 0)."
      ]
    },
    {
      "cell_type": "markdown",
      "metadata": {
        "id": "AmMMTi-14QhK"
      },
      "source": [
        "## Разделение исходных данных:"
      ]
    },
    {
      "cell_type": "code",
      "execution_count": null,
      "metadata": {
        "id": "McnhVisr4QhL"
      },
      "outputs": [],
      "source": [
        "# Создание таблицы с признаками:\n",
        "features = data.drop(['is_ultra'], axis=1)\n",
        "# Создание целевого столбца:\n",
        "target = data['is_ultra']\n",
        "\n",
        "# Разделение исходных данных на выборку для обучения 60%, и для валидации и теста:\n",
        "features_train, features_valid_test, target_train, target_valid_test = train_test_split(features, target, test_size=0.4, random_state=12345)\n",
        "# Разделение выборки для валидации и теста, на выборку валидации 20% от общих данных(50% от того, что осталось)\n",
        "# и на выборку теста 20% от общих данных ( 50% от того, что осталось после первого разделения):\n",
        "features_valid, features_test, target_valid, target_test =  train_test_split(features_valid_test, target_valid_test, test_size=0.5, random_state=12345)"
      ]
    },
    {
      "cell_type": "markdown",
      "metadata": {
        "id": "pQdoVF5a4QhL"
      },
      "source": [
        "#### Вывод:\n",
        "Все данные я разделил на 3 выборки: обучающая - 60 %, выборка для валидации - 20% и выборка для теста - 20%.(3/1/1).\n",
        "\n",
        "Для этого я сначала разделил данные на 2 выборки: обучающую - 60%,  и оставшуюся 40%, которую впоследствии я разделил на 2, чтобы получить по 20% для валидации и для тестов."
      ]
    },
    {
      "cell_type": "markdown",
      "metadata": {
        "id": "szHkMd4N4QhM"
      },
      "source": [
        "# Исcледование разных моделий:"
      ]
    },
    {
      "cell_type": "markdown",
      "metadata": {
        "id": "ju9eHPv54QhM"
      },
      "source": [
        "## Дерево решений:"
      ]
    },
    {
      "cell_type": "code",
      "execution_count": null,
      "metadata": {
        "id": "64aG_rEH4QhM",
        "outputId": "a14c8e99-62f9-4460-f022-3cf069b5a380"
      },
      "outputs": [
        {
          "name": "stdout",
          "output_type": "stream",
          "text": [
            "max_depth = 1 : 0.7542768273716952\n",
            "max_depth = 2 : 0.7822706065318819\n",
            "max_depth = 3 : 0.7853810264385692\n",
            "max_depth = 4 : 0.7791601866251944\n",
            "max_depth = 5 : 0.7791601866251944\n",
            "max_depth = 6 : 0.7838258164852255\n",
            "max_depth = 7 : 0.7822706065318819\n",
            "max_depth = 8 : 0.7791601866251944\n",
            "max_depth = 9 : 0.7822706065318819\n",
            "max_depth = 10 : 0.7744945567651633\n"
          ]
        }
      ],
      "source": [
        "# Цикл для проверки нескольких вариантов деревьев(с разной макс глубиной( от 1 до 10))\n",
        "for depth in range(1, 11):\n",
        "    # Обьявление модели:\n",
        "    model = model = DecisionTreeClassifier(random_state=12345, max_depth = depth)\n",
        "    # Обучение модели\n",
        "    model.fit(features_train, target_train)\n",
        "    # Предсказание:\n",
        "    predictions_valid = model.predict(features_valid)\n",
        "    # Вывод:\n",
        "    print(\"max_depth =\", depth, \": \", end='')\n",
        "    print(accuracy_score(target_valid, predictions_valid))"
      ]
    },
    {
      "cell_type": "markdown",
      "metadata": {
        "id": "K5z6_xqL4QhN"
      },
      "source": [
        "## Random forest:"
      ]
    },
    {
      "cell_type": "code",
      "execution_count": null,
      "metadata": {
        "scrolled": true,
        "id": "EGjxOwCC4QhN",
        "outputId": "4f88e9da-5d5b-4d89-d9ad-ea81e5c614cb"
      },
      "outputs": [
        {
          "name": "stdout",
          "output_type": "stream",
          "text": [
            "Accuracy наилучшей модели на валидационной выборке: 0.7947122861586314 Количество деревьев: 23 Максимальная глубина: 10\n"
          ]
        }
      ],
      "source": [
        "# Переменные чтобы индитефициовать лучшую модель:\n",
        "best_model = None\n",
        "best_result = 0\n",
        "# Цикл для проверки разных \"лесов\"\n",
        "for est in range(1, 50):\n",
        "    # Обьявление модели с заданным кол-вом деревьев:\n",
        "    model = RandomForestClassifier(random_state=12345, n_estimators= est)\n",
        "    # Обучение модели:\n",
        "    model.fit(features_train, target_train)\n",
        "    # Качество модели на валидационной выборке:\n",
        "    result = model.score(features_valid, target_valid)\n",
        "    # Для поиска лучшей модели:\n",
        "    if result > best_result:\n",
        "            best_model = model\n",
        "            best_result = result\n",
        "            best_est = est\n",
        "            best_depth = depth\n",
        "# Вывод:\n",
        "print(\"Accuracy наилучшей модели на валидационной выборке:\", best_result, \"Количество деревьев:\", best_est, \"Максимальная глубина:\", depth)"
      ]
    },
    {
      "cell_type": "markdown",
      "metadata": {
        "id": "hTvXyaIe4QhO"
      },
      "source": [
        "## Логистическая регрессия:"
      ]
    },
    {
      "cell_type": "code",
      "execution_count": null,
      "metadata": {
        "id": "qay69PJb4QhO",
        "outputId": "8e0fb861-c48c-41d1-948c-21098259b7e8"
      },
      "outputs": [
        {
          "name": "stdout",
          "output_type": "stream",
          "text": [
            "0.7573872472783826\n"
          ]
        }
      ],
      "source": [
        "# Обьявление модели:\n",
        "model = LogisticRegression(random_state=12345, solver='lbfgs', max_iter=1000)\n",
        "# Обучение модели:\n",
        "model.fit(features, target)\n",
        "# Вывод качества модели\n",
        "print(model.score(features_valid, target_valid))"
      ]
    },
    {
      "cell_type": "markdown",
      "metadata": {
        "id": "gGn-85Sj4QhP"
      },
      "source": [
        "#### Вывод:\n",
        "Данное исследование показало:\n",
        "\n",
        "Самой успешной моделью для этих данных оказалось Random Forest(кол-во деревьев 23, максимальная глубина 5) с accuaracy равной '0.7947122861586314'.\n",
        "\n",
        "Далее идёт Дерево решений с максимальной глубиной 3, accuaracy равно '0.7853810264385692'.\n",
        "\n",
        "И Логическая регрессия с accuaracy равной '0.7573872472783826', но зато она грузилась быстрее всех(хотя тут по скорости отличались милисекунды всё равно было заметно)\n",
        "\n",
        "Все модели проходят порог в accuaracy = 0.75 ."
      ]
    },
    {
      "cell_type": "markdown",
      "metadata": {
        "id": "E5Dcp2vD4QhP"
      },
      "source": [
        "# Проверка качества моделей:"
      ]
    },
    {
      "cell_type": "code",
      "execution_count": null,
      "metadata": {
        "id": "t62YeaOm4QhP",
        "outputId": "2ae17359-c3d6-4a8d-8485-caa442f4c631"
      },
      "outputs": [
        {
          "name": "stdout",
          "output_type": "stream",
          "text": [
            "Дерево решений: 0.7791601866251944\n",
            "Random forest: 0.7884914463452566\n",
            "Логическая регрессия: 0.6842923794712286\n"
          ]
        }
      ],
      "source": [
        "# Дерево решений:\n",
        "model = DecisionTreeClassifier(random_state=12345, max_depth = 3)\n",
        "model.fit(features_train, target_train)\n",
        "predictions_test = model.predict(features_test)\n",
        "result = accuracy_score(target_test, predictions_test)\n",
        "print('Дерево решений:',result)\n",
        "\n",
        "# Random Forest:\n",
        "model = RandomForestClassifier(random_state=12345, n_estimators=23, max_depth=5)\n",
        "model.fit(features_train, target_train) # обучите модель на тренировочной выборке\n",
        "result = model.score(features_valid, target_valid)\n",
        "print('Random forest:',result)\n",
        "\n",
        "# Логическая регрессия:\n",
        "model = LogisticRegression(random_state=12345, solver='lbfgs', max_iter=1000)\n",
        "model.fit(features_train, target_train)\n",
        "result = model.score(features_test, target_test)\n",
        "print('Логическая регрессия:', result)"
      ]
    },
    {
      "cell_type": "markdown",
      "metadata": {
        "id": "UFOEeH6E4QhQ"
      },
      "source": [
        "### Вывод:\n",
        "Как и в исследовании так и после проверки позиции остаются теми же:\n",
        "\n",
        "Самой успешной моделью казалось Random Forest(кол-во деревьев 23, максимальная глубина 5) с accuaracy равной '0.7884914463452566', что уменьшилось незначительно по сравнению с исследованием, всего на чуть меньше чем 0.01.\n",
        "\n",
        "Далее идёт Дерево решений с максимальной глубиной 3, accuaracy равно '0.7791601866251944', что также не сильно потеряло в точности.\n",
        "\n",
        "Последней идёт модель Логической регрессии, для которого accuaracy равно '0.6842923794712286', что значительно по сравнению с другими моделями потеряло точость, видимо модель переобучена."
      ]
    },
    {
      "cell_type": "markdown",
      "metadata": {
        "id": "7vBhrIMQ4QhS"
      },
      "source": [
        "# Вывод:\n",
        "\n",
        "##  Лучшей моделью оказалась Random forest, с кол-вом деревьев 23 и макс глубиной 5.\n",
        "\n",
        "## В данном проекте были предприняты следующие шаги:\n",
        "\n",
        "### 1.) Полученна и анализирована общая информация о данных.\n",
        "\n",
        "### 2.) Данные разделены на 3 выборки: обучающую, валидационную и тестовую.\n",
        "\n",
        "### 3.) Проведенно исследование 3х моделий обучений, выяснено какая из них лучше.\n",
        "\n",
        "### 4.) Качество моделей из исследования проверено с помощью тестовой выборки, исследование потвердилось.\n"
      ]
    }
  ],
  "metadata": {
    "kernelspec": {
      "display_name": "Python 3 (ipykernel)",
      "language": "python",
      "name": "python3"
    },
    "language_info": {
      "codemirror_mode": {
        "name": "ipython",
        "version": 3
      },
      "file_extension": ".py",
      "mimetype": "text/x-python",
      "name": "python",
      "nbconvert_exporter": "python",
      "pygments_lexer": "ipython3",
      "version": "3.9.5"
    },
    "toc": {
      "base_numbering": 1,
      "nav_menu": {},
      "number_sections": true,
      "sideBar": true,
      "skip_h1_title": true,
      "title_cell": "Table of Contents",
      "title_sidebar": "Contents",
      "toc_cell": false,
      "toc_position": {},
      "toc_section_display": true,
      "toc_window_display": false
    },
    "colab": {
      "provenance": []
    }
  },
  "nbformat": 4,
  "nbformat_minor": 0
}