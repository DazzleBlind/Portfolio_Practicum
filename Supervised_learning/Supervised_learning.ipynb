{
  "cells": [
    {
      "cell_type": "markdown",
      "metadata": {
        "id": "Vtgj3pMXKyRr"
      },
      "source": [
        "# Описание проекта:\n",
        "Нужно построить модель, которая спрогнозирует уйдёт клиент из банка в ближайшее время или нет.\n",
        "\n",
        "Нам предоставлены исторические данные о поведении клиентов и расторжении договоров с банком.\n",
        "\n",
        "Нужно построить модель с предельно большим значением F1-меры. Также нужно довести метрику до 0.59.\n",
        "\n",
        "Дополнительно измерить AUC-ROC и  сравнить её значение с F1-мерой."
      ]
    },
    {
      "cell_type": "markdown",
      "metadata": {
        "id": "t7HbCUk6KyRt"
      },
      "source": [
        "## Импорт библиотек:"
      ]
    },
    {
      "cell_type": "code",
      "source": [
        "## Для работы с данными:\n",
        "# Для загрузки файлов(у меня):\n",
        "from google.colab import drive\n",
        "drive.mount('/content/drive', force_remount=True)\n",
        "# Импортируем pandas как pd:\n",
        "import pandas as pd\n",
        "# Импортируем numpy как np:\n",
        "import numpy as np\n",
        "# Импорт метода для создания выборок:\n",
        "from sklearn.model_selection import train_test_split\n",
        "\n",
        "\n",
        "# Импорт моделей:\n",
        "from sklearn.linear_model import LogisticRegression\n",
        "from sklearn.tree import DecisionTreeClassifier\n",
        "from sklearn.ensemble import RandomForestClassifier\n",
        "from sklearn.preprocessing import StandardScaler\n",
        "\n",
        "# Импорт метрик:\n",
        "from sklearn.metrics import accuracy_score\n",
        "from sklearn.metrics import roc_curve\n",
        "from sklearn.metrics import roc_auc_score\n",
        "from sklearn.metrics import f1_score\n",
        "from sklearn.metrics import recall_score\n",
        "from sklearn.metrics import precision_score\n",
        "from sklearn.metrics import confusion_matrix"
      ],
      "metadata": {
        "id": "Z_wwpJkmLnjc"
      },
      "execution_count": null,
      "outputs": []
    },
    {
      "cell_type": "markdown",
      "metadata": {
        "id": "UBgEMykuKyRv"
      },
      "source": [
        "# Изучение общей информации о данных:"
      ]
    },
    {
      "cell_type": "code",
      "execution_count": null,
      "metadata": {
        "id": "3sCFutVSKyRv",
        "outputId": "7b99e5f3-f009-4bc2-8deb-753008f665ed"
      },
      "outputs": [
        {
          "name": "stdout",
          "output_type": "stream",
          "text": [
            "<class 'pandas.core.frame.DataFrame'>\n",
            "RangeIndex: 10000 entries, 0 to 9999\n",
            "Data columns (total 14 columns):\n",
            " #   Column           Non-Null Count  Dtype  \n",
            "---  ------           --------------  -----  \n",
            " 0   RowNumber        10000 non-null  int64  \n",
            " 1   CustomerId       10000 non-null  int64  \n",
            " 2   Surname          10000 non-null  object \n",
            " 3   CreditScore      10000 non-null  int64  \n",
            " 4   Geography        10000 non-null  object \n",
            " 5   Gender           10000 non-null  object \n",
            " 6   Age              10000 non-null  int64  \n",
            " 7   Tenure           9091 non-null   float64\n",
            " 8   Balance          10000 non-null  float64\n",
            " 9   NumOfProducts    10000 non-null  int64  \n",
            " 10  HasCrCard        10000 non-null  int64  \n",
            " 11  IsActiveMember   10000 non-null  int64  \n",
            " 12  EstimatedSalary  10000 non-null  float64\n",
            " 13  Exited           10000 non-null  int64  \n",
            "dtypes: float64(3), int64(8), object(3)\n",
            "memory usage: 1.1+ MB\n"
          ]
        },
        {
          "data": {
            "text/html": [
              "<div>\n",
              "<style scoped>\n",
              "    .dataframe tbody tr th:only-of-type {\n",
              "        vertical-align: middle;\n",
              "    }\n",
              "\n",
              "    .dataframe tbody tr th {\n",
              "        vertical-align: top;\n",
              "    }\n",
              "\n",
              "    .dataframe thead th {\n",
              "        text-align: right;\n",
              "    }\n",
              "</style>\n",
              "<table border=\"1\" class=\"dataframe\">\n",
              "  <thead>\n",
              "    <tr style=\"text-align: right;\">\n",
              "      <th></th>\n",
              "      <th>RowNumber</th>\n",
              "      <th>CustomerId</th>\n",
              "      <th>Surname</th>\n",
              "      <th>CreditScore</th>\n",
              "      <th>Geography</th>\n",
              "      <th>Gender</th>\n",
              "      <th>Age</th>\n",
              "      <th>Tenure</th>\n",
              "      <th>Balance</th>\n",
              "      <th>NumOfProducts</th>\n",
              "      <th>HasCrCard</th>\n",
              "      <th>IsActiveMember</th>\n",
              "      <th>EstimatedSalary</th>\n",
              "      <th>Exited</th>\n",
              "    </tr>\n",
              "  </thead>\n",
              "  <tbody>\n",
              "    <tr>\n",
              "      <th>0</th>\n",
              "      <td>1</td>\n",
              "      <td>15634602</td>\n",
              "      <td>Hargrave</td>\n",
              "      <td>619</td>\n",
              "      <td>France</td>\n",
              "      <td>Female</td>\n",
              "      <td>42</td>\n",
              "      <td>2.0</td>\n",
              "      <td>0.00</td>\n",
              "      <td>1</td>\n",
              "      <td>1</td>\n",
              "      <td>1</td>\n",
              "      <td>101348.88</td>\n",
              "      <td>1</td>\n",
              "    </tr>\n",
              "    <tr>\n",
              "      <th>1</th>\n",
              "      <td>2</td>\n",
              "      <td>15647311</td>\n",
              "      <td>Hill</td>\n",
              "      <td>608</td>\n",
              "      <td>Spain</td>\n",
              "      <td>Female</td>\n",
              "      <td>41</td>\n",
              "      <td>1.0</td>\n",
              "      <td>83807.86</td>\n",
              "      <td>1</td>\n",
              "      <td>0</td>\n",
              "      <td>1</td>\n",
              "      <td>112542.58</td>\n",
              "      <td>0</td>\n",
              "    </tr>\n",
              "    <tr>\n",
              "      <th>2</th>\n",
              "      <td>3</td>\n",
              "      <td>15619304</td>\n",
              "      <td>Onio</td>\n",
              "      <td>502</td>\n",
              "      <td>France</td>\n",
              "      <td>Female</td>\n",
              "      <td>42</td>\n",
              "      <td>8.0</td>\n",
              "      <td>159660.80</td>\n",
              "      <td>3</td>\n",
              "      <td>1</td>\n",
              "      <td>0</td>\n",
              "      <td>113931.57</td>\n",
              "      <td>1</td>\n",
              "    </tr>\n",
              "    <tr>\n",
              "      <th>3</th>\n",
              "      <td>4</td>\n",
              "      <td>15701354</td>\n",
              "      <td>Boni</td>\n",
              "      <td>699</td>\n",
              "      <td>France</td>\n",
              "      <td>Female</td>\n",
              "      <td>39</td>\n",
              "      <td>1.0</td>\n",
              "      <td>0.00</td>\n",
              "      <td>2</td>\n",
              "      <td>0</td>\n",
              "      <td>0</td>\n",
              "      <td>93826.63</td>\n",
              "      <td>0</td>\n",
              "    </tr>\n",
              "    <tr>\n",
              "      <th>4</th>\n",
              "      <td>5</td>\n",
              "      <td>15737888</td>\n",
              "      <td>Mitchell</td>\n",
              "      <td>850</td>\n",
              "      <td>Spain</td>\n",
              "      <td>Female</td>\n",
              "      <td>43</td>\n",
              "      <td>2.0</td>\n",
              "      <td>125510.82</td>\n",
              "      <td>1</td>\n",
              "      <td>1</td>\n",
              "      <td>1</td>\n",
              "      <td>79084.10</td>\n",
              "      <td>0</td>\n",
              "    </tr>\n",
              "    <tr>\n",
              "      <th>...</th>\n",
              "      <td>...</td>\n",
              "      <td>...</td>\n",
              "      <td>...</td>\n",
              "      <td>...</td>\n",
              "      <td>...</td>\n",
              "      <td>...</td>\n",
              "      <td>...</td>\n",
              "      <td>...</td>\n",
              "      <td>...</td>\n",
              "      <td>...</td>\n",
              "      <td>...</td>\n",
              "      <td>...</td>\n",
              "      <td>...</td>\n",
              "      <td>...</td>\n",
              "    </tr>\n",
              "    <tr>\n",
              "      <th>9995</th>\n",
              "      <td>9996</td>\n",
              "      <td>15606229</td>\n",
              "      <td>Obijiaku</td>\n",
              "      <td>771</td>\n",
              "      <td>France</td>\n",
              "      <td>Male</td>\n",
              "      <td>39</td>\n",
              "      <td>5.0</td>\n",
              "      <td>0.00</td>\n",
              "      <td>2</td>\n",
              "      <td>1</td>\n",
              "      <td>0</td>\n",
              "      <td>96270.64</td>\n",
              "      <td>0</td>\n",
              "    </tr>\n",
              "    <tr>\n",
              "      <th>9996</th>\n",
              "      <td>9997</td>\n",
              "      <td>15569892</td>\n",
              "      <td>Johnstone</td>\n",
              "      <td>516</td>\n",
              "      <td>France</td>\n",
              "      <td>Male</td>\n",
              "      <td>35</td>\n",
              "      <td>10.0</td>\n",
              "      <td>57369.61</td>\n",
              "      <td>1</td>\n",
              "      <td>1</td>\n",
              "      <td>1</td>\n",
              "      <td>101699.77</td>\n",
              "      <td>0</td>\n",
              "    </tr>\n",
              "    <tr>\n",
              "      <th>9997</th>\n",
              "      <td>9998</td>\n",
              "      <td>15584532</td>\n",
              "      <td>Liu</td>\n",
              "      <td>709</td>\n",
              "      <td>France</td>\n",
              "      <td>Female</td>\n",
              "      <td>36</td>\n",
              "      <td>7.0</td>\n",
              "      <td>0.00</td>\n",
              "      <td>1</td>\n",
              "      <td>0</td>\n",
              "      <td>1</td>\n",
              "      <td>42085.58</td>\n",
              "      <td>1</td>\n",
              "    </tr>\n",
              "    <tr>\n",
              "      <th>9998</th>\n",
              "      <td>9999</td>\n",
              "      <td>15682355</td>\n",
              "      <td>Sabbatini</td>\n",
              "      <td>772</td>\n",
              "      <td>Germany</td>\n",
              "      <td>Male</td>\n",
              "      <td>42</td>\n",
              "      <td>3.0</td>\n",
              "      <td>75075.31</td>\n",
              "      <td>2</td>\n",
              "      <td>1</td>\n",
              "      <td>0</td>\n",
              "      <td>92888.52</td>\n",
              "      <td>1</td>\n",
              "    </tr>\n",
              "    <tr>\n",
              "      <th>9999</th>\n",
              "      <td>10000</td>\n",
              "      <td>15628319</td>\n",
              "      <td>Walker</td>\n",
              "      <td>792</td>\n",
              "      <td>France</td>\n",
              "      <td>Female</td>\n",
              "      <td>28</td>\n",
              "      <td>NaN</td>\n",
              "      <td>130142.79</td>\n",
              "      <td>1</td>\n",
              "      <td>1</td>\n",
              "      <td>0</td>\n",
              "      <td>38190.78</td>\n",
              "      <td>0</td>\n",
              "    </tr>\n",
              "  </tbody>\n",
              "</table>\n",
              "<p>10000 rows × 14 columns</p>\n",
              "</div>"
            ],
            "text/plain": [
              "      RowNumber  CustomerId    Surname  CreditScore Geography  Gender  Age  \\\n",
              "0             1    15634602   Hargrave          619    France  Female   42   \n",
              "1             2    15647311       Hill          608     Spain  Female   41   \n",
              "2             3    15619304       Onio          502    France  Female   42   \n",
              "3             4    15701354       Boni          699    France  Female   39   \n",
              "4             5    15737888   Mitchell          850     Spain  Female   43   \n",
              "...         ...         ...        ...          ...       ...     ...  ...   \n",
              "9995       9996    15606229   Obijiaku          771    France    Male   39   \n",
              "9996       9997    15569892  Johnstone          516    France    Male   35   \n",
              "9997       9998    15584532        Liu          709    France  Female   36   \n",
              "9998       9999    15682355  Sabbatini          772   Germany    Male   42   \n",
              "9999      10000    15628319     Walker          792    France  Female   28   \n",
              "\n",
              "      Tenure    Balance  NumOfProducts  HasCrCard  IsActiveMember  \\\n",
              "0        2.0       0.00              1          1               1   \n",
              "1        1.0   83807.86              1          0               1   \n",
              "2        8.0  159660.80              3          1               0   \n",
              "3        1.0       0.00              2          0               0   \n",
              "4        2.0  125510.82              1          1               1   \n",
              "...      ...        ...            ...        ...             ...   \n",
              "9995     5.0       0.00              2          1               0   \n",
              "9996    10.0   57369.61              1          1               1   \n",
              "9997     7.0       0.00              1          0               1   \n",
              "9998     3.0   75075.31              2          1               0   \n",
              "9999     NaN  130142.79              1          1               0   \n",
              "\n",
              "      EstimatedSalary  Exited  \n",
              "0           101348.88       1  \n",
              "1           112542.58       0  \n",
              "2           113931.57       1  \n",
              "3            93826.63       0  \n",
              "4            79084.10       0  \n",
              "...               ...     ...  \n",
              "9995         96270.64       0  \n",
              "9996        101699.77       0  \n",
              "9997         42085.58       1  \n",
              "9998         92888.52       1  \n",
              "9999         38190.78       0  \n",
              "\n",
              "[10000 rows x 14 columns]"
            ]
          },
          "metadata": {},
          "output_type": "display_data"
        }
      ],
      "source": [
        "# загружаем таблицу данных в переменную data:\n",
        "try:\n",
        "    data = pd.read_csv('/datasets/Churn.csv')\n",
        "except:\n",
        "    data = pd.read_csv('/users/junker/downloads/Churn.csv')\n",
        "# Выводим информацию о таблице данных:\n",
        "data.info()\n",
        "# Выводим таблицу:\n",
        "display(data)"
      ]
    },
    {
      "cell_type": "markdown",
      "metadata": {
        "id": "iBdZsLo5KyRx"
      },
      "source": [
        "### Вывод:\n",
        "Дана таблица: 10000 строк, 14 колонок.\n",
        "\n",
        "Пропуски есть только в столбце Tenure.\n",
        "\n",
        "RowNumber — индекс строки в данных.\n",
        "\n",
        "CustomerId — уникальный идентификатор клиента.\n",
        "\n",
        "Surname — фамилия.\n",
        "\n",
        "CreditScore — кредитный рейтинг.\n",
        "\n",
        "Geography — страна проживания.\n",
        "\n",
        "Gender — пол.\n",
        "\n",
        "Age — возраст.\n",
        "\n",
        "Tenure — сколько лет человек является клиентом банка.\n",
        "\n",
        "Balance — баланс на счёте.\n",
        "\n",
        "NumOfProducts — количество продуктов банка, используемых клиентом.\n",
        "\n",
        "HasCrCard — наличие кредитной карты.\n",
        "\n",
        "IsActiveMember — активность клиента.\n",
        "\n",
        "EstimatedSalary — предполагаемая зарплата.\n",
        "\n",
        "Целевая переменная Exited — факт ухода клиента"
      ]
    },
    {
      "cell_type": "markdown",
      "metadata": {
        "id": "8xeTroR3KyRy"
      },
      "source": [
        "# Предобработка данных:"
      ]
    },
    {
      "cell_type": "markdown",
      "metadata": {
        "id": "3geSpD67KyRy"
      },
      "source": [
        "## Изменение названий колонок:"
      ]
    },
    {
      "cell_type": "code",
      "execution_count": null,
      "metadata": {
        "id": "G0w2cH2kKyRy"
      },
      "outputs": [],
      "source": [
        "# Изменяю регистр колонок на нижний:\n",
        "data.columns = data.columns.str.lower()\n",
        "# Изменяю с Camel на Snake:\n",
        "data = data.rename(columns={'customerid': 'customer_id', 'creditscore': 'credit_score',\n",
        "                            'numofproducts': 'num_of_products', 'hascrcard': 'has_cr_card',\n",
        "                            'isactivemember': 'is_active_member', 'estimatedsalary': 'estimated_salary'})"
      ]
    },
    {
      "cell_type": "markdown",
      "metadata": {
        "id": "LpG4rXwjKyRz"
      },
      "source": [
        "## Работа с пропусками:"
      ]
    },
    {
      "cell_type": "code",
      "execution_count": null,
      "metadata": {
        "id": "RgPsisjNKyRz",
        "outputId": "b13e92c3-edc0-491c-cfe2-aed17b626a19"
      },
      "outputs": [
        {
          "name": "stdout",
          "output_type": "stream",
          "text": [
            "rownumber             0\n",
            "customer_id           0\n",
            "surname               0\n",
            "credit_score          0\n",
            "geography             0\n",
            "gender                0\n",
            "age                   0\n",
            "tenure              909\n",
            "balance               0\n",
            "num_of_products       0\n",
            "has_cr_card           0\n",
            "is_active_member      0\n",
            "estimated_salary      0\n",
            "exited                0\n",
            "dtype: int64\n",
            "<class 'pandas.core.frame.DataFrame'>\n",
            "RangeIndex: 9091 entries, 0 to 9090\n",
            "Data columns (total 14 columns):\n",
            " #   Column            Non-Null Count  Dtype  \n",
            "---  ------            --------------  -----  \n",
            " 0   rownumber         9091 non-null   int64  \n",
            " 1   customer_id       9091 non-null   int64  \n",
            " 2   surname           9091 non-null   object \n",
            " 3   credit_score      9091 non-null   int64  \n",
            " 4   geography         9091 non-null   object \n",
            " 5   gender            9091 non-null   object \n",
            " 6   age               9091 non-null   int64  \n",
            " 7   tenure            9091 non-null   float64\n",
            " 8   balance           9091 non-null   float64\n",
            " 9   num_of_products   9091 non-null   int64  \n",
            " 10  has_cr_card       9091 non-null   int64  \n",
            " 11  is_active_member  9091 non-null   int64  \n",
            " 12  estimated_salary  9091 non-null   float64\n",
            " 13  exited            9091 non-null   int64  \n",
            "dtypes: float64(3), int64(8), object(3)\n",
            "memory usage: 994.5+ KB\n"
          ]
        }
      ],
      "source": [
        "# Кол-во явных дубликатов\n",
        "# print(data.duplicated().sum()\n",
        "\n",
        "# Кол-во нулей:\n",
        "print(data.isna().sum())\n",
        "#Удаление столбца tenure:\n",
        "data = data.drop(['tenure'], axis=1)\n",
        "#data['tenure'] = data['tenure'].fillna(data['tenure'].median())\n",
        "#data = data.dropna().reset_index(drop=True)\n",
        "# Проверка:\n",
        "data.info()"
      ]
    },
    {
      "cell_type": "markdown",
      "metadata": {
        "id": "QXunifG-KyR0"
      },
      "source": [
        "#### Вывод:\n",
        "Явных дубликатов нет.\n",
        "\n",
        "Удалил весь столбец ткк обычно пропуски влияют на работу линейной регрессии. Чтобы модели были в равных условиях колонка удалена, ткк замена пропусков также может нигативно влиять на работу моделей.\n"
      ]
    },
    {
      "cell_type": "markdown",
      "metadata": {
        "id": "1joluc_7KyR0"
      },
      "source": [
        "## OHE преобразование:"
      ]
    },
    {
      "cell_type": "code",
      "execution_count": null,
      "metadata": {
        "id": "eXSeR9_tKyR0",
        "outputId": "4a8d3156-e912-4bf4-d1b4-25e0a648a763"
      },
      "outputs": [
        {
          "name": "stdout",
          "output_type": "stream",
          "text": [
            "geography  gender\n",
            "France     Male      2506\n",
            "           Female    2044\n",
            "Spain      Male      1260\n",
            "Germany    Male      1208\n",
            "           Female    1085\n",
            "Spain      Female     988\n",
            "dtype: int64\n"
          ]
        },
        {
          "data": {
            "text/html": [
              "<div>\n",
              "<style scoped>\n",
              "    .dataframe tbody tr th:only-of-type {\n",
              "        vertical-align: middle;\n",
              "    }\n",
              "\n",
              "    .dataframe tbody tr th {\n",
              "        vertical-align: top;\n",
              "    }\n",
              "\n",
              "    .dataframe thead th {\n",
              "        text-align: right;\n",
              "    }\n",
              "</style>\n",
              "<table border=\"1\" class=\"dataframe\">\n",
              "  <thead>\n",
              "    <tr style=\"text-align: right;\">\n",
              "      <th></th>\n",
              "      <th>rownumber</th>\n",
              "      <th>customer_id</th>\n",
              "      <th>surname</th>\n",
              "      <th>credit_score</th>\n",
              "      <th>age</th>\n",
              "      <th>tenure</th>\n",
              "      <th>balance</th>\n",
              "      <th>num_of_products</th>\n",
              "      <th>has_cr_card</th>\n",
              "      <th>is_active_member</th>\n",
              "      <th>estimated_salary</th>\n",
              "      <th>exited</th>\n",
              "      <th>geography_France</th>\n",
              "      <th>geography_Germany</th>\n",
              "      <th>geography_Spain</th>\n",
              "      <th>gender_Female</th>\n",
              "      <th>gender_Male</th>\n",
              "    </tr>\n",
              "  </thead>\n",
              "  <tbody>\n",
              "    <tr>\n",
              "      <th>0</th>\n",
              "      <td>1</td>\n",
              "      <td>15634602</td>\n",
              "      <td>Hargrave</td>\n",
              "      <td>619</td>\n",
              "      <td>42</td>\n",
              "      <td>2.0</td>\n",
              "      <td>0.00</td>\n",
              "      <td>1</td>\n",
              "      <td>1</td>\n",
              "      <td>1</td>\n",
              "      <td>101348.88</td>\n",
              "      <td>1</td>\n",
              "      <td>1</td>\n",
              "      <td>0</td>\n",
              "      <td>0</td>\n",
              "      <td>1</td>\n",
              "      <td>0</td>\n",
              "    </tr>\n",
              "    <tr>\n",
              "      <th>1</th>\n",
              "      <td>2</td>\n",
              "      <td>15647311</td>\n",
              "      <td>Hill</td>\n",
              "      <td>608</td>\n",
              "      <td>41</td>\n",
              "      <td>1.0</td>\n",
              "      <td>83807.86</td>\n",
              "      <td>1</td>\n",
              "      <td>0</td>\n",
              "      <td>1</td>\n",
              "      <td>112542.58</td>\n",
              "      <td>0</td>\n",
              "      <td>0</td>\n",
              "      <td>0</td>\n",
              "      <td>1</td>\n",
              "      <td>1</td>\n",
              "      <td>0</td>\n",
              "    </tr>\n",
              "    <tr>\n",
              "      <th>2</th>\n",
              "      <td>3</td>\n",
              "      <td>15619304</td>\n",
              "      <td>Onio</td>\n",
              "      <td>502</td>\n",
              "      <td>42</td>\n",
              "      <td>8.0</td>\n",
              "      <td>159660.80</td>\n",
              "      <td>3</td>\n",
              "      <td>1</td>\n",
              "      <td>0</td>\n",
              "      <td>113931.57</td>\n",
              "      <td>1</td>\n",
              "      <td>1</td>\n",
              "      <td>0</td>\n",
              "      <td>0</td>\n",
              "      <td>1</td>\n",
              "      <td>0</td>\n",
              "    </tr>\n",
              "    <tr>\n",
              "      <th>3</th>\n",
              "      <td>4</td>\n",
              "      <td>15701354</td>\n",
              "      <td>Boni</td>\n",
              "      <td>699</td>\n",
              "      <td>39</td>\n",
              "      <td>1.0</td>\n",
              "      <td>0.00</td>\n",
              "      <td>2</td>\n",
              "      <td>0</td>\n",
              "      <td>0</td>\n",
              "      <td>93826.63</td>\n",
              "      <td>0</td>\n",
              "      <td>1</td>\n",
              "      <td>0</td>\n",
              "      <td>0</td>\n",
              "      <td>1</td>\n",
              "      <td>0</td>\n",
              "    </tr>\n",
              "    <tr>\n",
              "      <th>4</th>\n",
              "      <td>5</td>\n",
              "      <td>15737888</td>\n",
              "      <td>Mitchell</td>\n",
              "      <td>850</td>\n",
              "      <td>43</td>\n",
              "      <td>2.0</td>\n",
              "      <td>125510.82</td>\n",
              "      <td>1</td>\n",
              "      <td>1</td>\n",
              "      <td>1</td>\n",
              "      <td>79084.10</td>\n",
              "      <td>0</td>\n",
              "      <td>0</td>\n",
              "      <td>0</td>\n",
              "      <td>1</td>\n",
              "      <td>1</td>\n",
              "      <td>0</td>\n",
              "    </tr>\n",
              "  </tbody>\n",
              "</table>\n",
              "</div>"
            ],
            "text/plain": [
              "   rownumber  customer_id   surname  credit_score  age  tenure    balance  \\\n",
              "0          1     15634602  Hargrave           619   42     2.0       0.00   \n",
              "1          2     15647311      Hill           608   41     1.0   83807.86   \n",
              "2          3     15619304      Onio           502   42     8.0  159660.80   \n",
              "3          4     15701354      Boni           699   39     1.0       0.00   \n",
              "4          5     15737888  Mitchell           850   43     2.0  125510.82   \n",
              "\n",
              "   num_of_products  has_cr_card  is_active_member  estimated_salary  exited  \\\n",
              "0                1            1                 1         101348.88       1   \n",
              "1                1            0                 1         112542.58       0   \n",
              "2                3            1                 0         113931.57       1   \n",
              "3                2            0                 0          93826.63       0   \n",
              "4                1            1                 1          79084.10       0   \n",
              "\n",
              "   geography_France  geography_Germany  geography_Spain  gender_Female  \\\n",
              "0                 1                  0                0              1   \n",
              "1                 0                  0                1              1   \n",
              "2                 1                  0                0              1   \n",
              "3                 1                  0                0              1   \n",
              "4                 0                  0                1              1   \n",
              "\n",
              "   gender_Male  \n",
              "0            0  \n",
              "1            0  \n",
              "2            0  \n",
              "3            0  \n",
              "4            0  "
            ]
          },
          "metadata": {},
          "output_type": "display_data"
        }
      ],
      "source": [
        "print(data[['geography', 'gender']].value_counts())\n",
        "data = pd.get_dummies(data = data, columns=['geography','gender'], drop_first=False)\n",
        "display(data.head())"
      ]
    },
    {
      "cell_type": "markdown",
      "metadata": {
        "id": "gKEAol5RKyR1"
      },
      "source": [
        "## Создание выборок:"
      ]
    },
    {
      "cell_type": "code",
      "execution_count": null,
      "metadata": {
        "id": "6WatgvkgKyR2"
      },
      "outputs": [],
      "source": [
        "# Создание переменной с целевым признаком:\n",
        "target = data['exited']\n",
        "# Создание переменной с признаками(особенностями):\n",
        "features = data.drop(['rownumber', 'customer_id', 'exited', 'surname'], axis=1)"
      ]
    },
    {
      "cell_type": "markdown",
      "metadata": {
        "id": "v24H1GYZKyR3"
      },
      "source": [
        "#### Вывод:\n",
        "Целевой признак известен изначально - exited.\n",
        "\n",
        "Для признаков удалены столбцы: exited - ткк это цель, customerid, rownumber и surname - ткк id клиента, его фамилия и индекс строки не влияют на его поведение."
      ]
    },
    {
      "cell_type": "code",
      "execution_count": null,
      "metadata": {
        "id": "isOsEkBLKyR3"
      },
      "outputs": [],
      "source": [
        "# Разделение исходных данных на выборку для обучения 60%, и для валидации и теста:\n",
        "features_train, features_valid_test, target_train, target_valid_test = train_test_split(features, target, test_size=0.4, random_state=12345)\n",
        "# Разделение выборки для валидации и теста, на выборку валидации 20% от общих данных(50% от того, что осталось)\n",
        "# и на выборку теста 20% от общих данных ( 50% от того, что осталось после первого разделения):\n",
        "features_valid, features_test, target_valid, target_test =  train_test_split(features_valid_test, target_valid_test, test_size=0.5, random_state=12345)"
      ]
    },
    {
      "cell_type": "code",
      "execution_count": null,
      "metadata": {
        "id": "aLlDBQbMKyR3",
        "outputId": "d4f24f06-9d37-4bab-fbbb-289e8d6007e0"
      },
      "outputs": [
        {
          "name": "stdout",
          "output_type": "stream",
          "text": [
            "Размеры Тренировачных признаков: (5454, 13) Тренировачных целей: (5454,)\n",
            "Размеры Валидаационных признаков: (1818, 13) Валидаационных целей: (1818,)\n",
            "Размеры Тестовых признаков: (1819, 13) Тестовых целей: (1819,)\n"
          ]
        }
      ],
      "source": [
        "# Размеры выборок:\n",
        "# Тренировочных:\n",
        "print('Размеры Тренировачных признаков:', features_train.shape, 'Тренировачных целей:', target_train.shape)\n",
        "# Валидационных:\n",
        "print('Размеры Валидаационных признаков:', features_valid.shape, 'Валидаационных целей:', target_valid.shape)\n",
        "# Тестовых:\n",
        "print('Размеры Тестовых признаков:', features_test.shape, 'Тестовых целей:', target_test.shape)"
      ]
    },
    {
      "cell_type": "markdown",
      "metadata": {
        "id": "ufYnO7ZJKyR4"
      },
      "source": [
        "#### Вывод:\n",
        "Все данные я разделил на 3 выборки: обучающая - 60 %, выборка для валидации - 20% и выборка для теста - 20%.(3/1/1).\n",
        "\n",
        "Для этого я сначала разделил данные на 2 выборки: обучающую - 60%,  и оставшуюся 40%, которую впоследствии я разделил на 2, чтобы получить по 20% для валидации и для тестов."
      ]
    },
    {
      "cell_type": "code",
      "execution_count": null,
      "metadata": {
        "id": "kxRsWSBTKyR4",
        "outputId": "a929e57d-81df-4001-9c26-2f91bce1d184"
      },
      "outputs": [
        {
          "name": "stderr",
          "output_type": "stream",
          "text": [
            "/opt/anaconda3/lib/python3.9/site-packages/pandas/core/frame.py:3678: SettingWithCopyWarning: \n",
            "A value is trying to be set on a copy of a slice from a DataFrame.\n",
            "Try using .loc[row_indexer,col_indexer] = value instead\n",
            "\n",
            "See the caveats in the documentation: https://pandas.pydata.org/pandas-docs/stable/user_guide/indexing.html#returning-a-view-versus-a-copy\n",
            "  self[col] = igetitem(value, i)\n",
            "/opt/anaconda3/lib/python3.9/site-packages/pandas/core/frame.py:3678: SettingWithCopyWarning: \n",
            "A value is trying to be set on a copy of a slice from a DataFrame.\n",
            "Try using .loc[row_indexer,col_indexer] = value instead\n",
            "\n",
            "See the caveats in the documentation: https://pandas.pydata.org/pandas-docs/stable/user_guide/indexing.html#returning-a-view-versus-a-copy\n",
            "  self[col] = igetitem(value, i)\n",
            "/opt/anaconda3/lib/python3.9/site-packages/pandas/core/frame.py:3678: SettingWithCopyWarning: \n",
            "A value is trying to be set on a copy of a slice from a DataFrame.\n",
            "Try using .loc[row_indexer,col_indexer] = value instead\n",
            "\n",
            "See the caveats in the documentation: https://pandas.pydata.org/pandas-docs/stable/user_guide/indexing.html#returning-a-view-versus-a-copy\n",
            "  self[col] = igetitem(value, i)\n"
          ]
        }
      ],
      "source": [
        "# Масштабирование выборок:\n",
        "\n",
        "# Создаем стандатизатор:\n",
        "scaler = StandardScaler()\n",
        "# Создаем переменную с численными признаками:\n",
        "numeric = (['credit_score', 'age', 'balance', 'num_of_products', 'has_cr_card', 'is_active_member',\n",
        "            'estimated_salary', 'geography_France', 'geography_Germany', 'geography_Spain',\n",
        "            'gender_Female', 'gender_Male','tenure'])\n",
        "# Обучаем Стандартизатор:\n",
        "scaler.fit(features_train[numeric])\n",
        "# Стандартизируем:\n",
        "features_train[numeric] = scaler.transform(features_train[numeric])\n",
        "features_valid[numeric] = scaler.transform(features_valid[numeric])\n",
        "features_test[numeric] = scaler.transform(features_test[numeric])"
      ]
    },
    {
      "cell_type": "markdown",
      "metadata": {
        "id": "VoSakvk0KyR5"
      },
      "source": [
        "#### Вывод:\n",
        "Предобработка данных успешно завершена."
      ]
    },
    {
      "cell_type": "markdown",
      "metadata": {
        "id": "NCxvNFiuKyR5"
      },
      "source": [
        "# Модель без учёта дисбаланса:"
      ]
    },
    {
      "cell_type": "markdown",
      "metadata": {
        "id": "TtC80WoeKyR5"
      },
      "source": [
        "## Создания функции для выбора:"
      ]
    },
    {
      "cell_type": "code",
      "execution_count": null,
      "metadata": {
        "id": "pWZG9UIFKyR6"
      },
      "outputs": [],
      "source": [
        "def cchoosee(model, features, target, predict):\n",
        "    # Расчёт вероятностей классификации:\n",
        "    probabilities_test = model.predict_proba(features)\n",
        "    probabilities_test_one = probabilities_test[:,1]\n",
        "    # Данные для граффика:\n",
        "    fpr, tpr, thesholds = roc_curve(target, probabilities_test_one)\n",
        "    # Строим граффик:\n",
        "    plt.figure()\n",
        "    # Кривая auc-roc:\n",
        "    plt.plot(fpr, tpr, label='Model')\n",
        "    # Кривая случайной модели:\n",
        "    plt.plot([0, 1],[0, 1],linestyle='--', label='Random')\n",
        "    # Описние графика:\n",
        "    plt.ylabel('TP-Rate')\n",
        "    plt.xlabel('FP-Rate')\n",
        "    plt.title('ROC-Кривая')\n",
        "    plt.legend(fontsize=12)\n",
        "    plt.show()\n",
        "    # Выводим auc-roc:\n",
        "    print('Auc-roc метрика равна:', roc_auc_score(target, probabilities_test_one))\n",
        "    # Выводим f1-метрику:\n",
        "    print('f-1 метрика равна:', f1_score(target, predict))"
      ]
    },
    {
      "cell_type": "markdown",
      "metadata": {
        "id": "-M5EUXGBKyR6"
      },
      "source": [
        "## Дерево решений:"
      ]
    },
    {
      "cell_type": "code",
      "execution_count": null,
      "metadata": {
        "colab": {
          "base_uri": "https://localhost:8080/",
          "height": 250
        },
        "id": "wdnYiTt_KyR7",
        "outputId": "4b6862a9-7210-44e3-f37d-d98cb3df8c34"
      },
      "outputs": [
        {
          "output_type": "error",
          "ename": "NameError",
          "evalue": "ignored",
          "traceback": [
            "\u001b[0;31m---------------------------------------------------------------------------\u001b[0m",
            "\u001b[0;31mNameError\u001b[0m                                 Traceback (most recent call last)",
            "\u001b[0;32m<ipython-input-2-87fc5bd17939>\u001b[0m in \u001b[0;36m<cell line: 2>\u001b[0;34m()\u001b[0m\n\u001b[1;32m      2\u001b[0m \u001b[0;32mfor\u001b[0m \u001b[0mdepth\u001b[0m \u001b[0;32min\u001b[0m \u001b[0mrange\u001b[0m\u001b[0;34m(\u001b[0m\u001b[0;36m1\u001b[0m\u001b[0;34m,\u001b[0m \u001b[0;36m16\u001b[0m\u001b[0;34m)\u001b[0m\u001b[0;34m:\u001b[0m\u001b[0;34m\u001b[0m\u001b[0;34m\u001b[0m\u001b[0m\n\u001b[1;32m      3\u001b[0m     \u001b[0;31m# Обьявление модели:\u001b[0m\u001b[0;34m\u001b[0m\u001b[0;34m\u001b[0m\u001b[0m\n\u001b[0;32m----> 4\u001b[0;31m     \u001b[0mmodel\u001b[0m \u001b[0;34m=\u001b[0m \u001b[0mDecisionTreeClassifier\u001b[0m\u001b[0;34m(\u001b[0m\u001b[0mrandom_state\u001b[0m\u001b[0;34m=\u001b[0m\u001b[0;36m12345\u001b[0m\u001b[0;34m,\u001b[0m \u001b[0mmax_depth\u001b[0m \u001b[0;34m=\u001b[0m \u001b[0mdepth\u001b[0m\u001b[0;34m)\u001b[0m\u001b[0;34m\u001b[0m\u001b[0;34m\u001b[0m\u001b[0m\n\u001b[0m\u001b[1;32m      5\u001b[0m     \u001b[0;31m# Обучение модели\u001b[0m\u001b[0;34m\u001b[0m\u001b[0;34m\u001b[0m\u001b[0m\n\u001b[1;32m      6\u001b[0m     \u001b[0mmodel\u001b[0m\u001b[0;34m.\u001b[0m\u001b[0mfit\u001b[0m\u001b[0;34m(\u001b[0m\u001b[0mfeatures_train\u001b[0m\u001b[0;34m,\u001b[0m \u001b[0mtarget_train\u001b[0m\u001b[0;34m)\u001b[0m\u001b[0;34m\u001b[0m\u001b[0;34m\u001b[0m\u001b[0m\n",
            "\u001b[0;31mNameError\u001b[0m: name 'DecisionTreeClassifier' is not defined"
          ]
        }
      ],
      "source": [
        "# Для локальной модели:\n",
        "for depth in range(1, 16):\n",
        "    # Обьявление модели:\n",
        "    model = DecisionTreeClassifier(random_state=12345, max_depth = depth)\n",
        "    # Обучение модели\n",
        "    model.fit(features_train, target_train)\n",
        "    # Предсказание:\n",
        "    predictions_valid = model.predict(features_valid)\n",
        "    # Вывод:\n",
        "    print(\"max_depth =\", depth, \": \", end='')\n",
        "    print(accuracy_score(target_valid, predictions_valid))"
      ]
    },
    {
      "cell_type": "code",
      "execution_count": null,
      "metadata": {
        "id": "SEkPx_-kKyR7"
      },
      "outputs": [],
      "source": [
        "# Инициализация лучшей модели из предыдущего блока:\n",
        "model = DecisionTreeClassifier(random_state=12345, max_depth = 6)\n",
        "# Обучение данной модели:\n",
        "model.fit(features_train, target_train)\n",
        "# Предсказание:\n",
        "predictions_valid = model.predict(features_valid)\n",
        "# Вывод качества для сравнения:\n",
        "cchoosee(model, features_valid, target_valid, predictions_valid)"
      ]
    },
    {
      "cell_type": "markdown",
      "metadata": {
        "id": "nHlLjjtaKyR9"
      },
      "source": [
        "## Random Forest:"
      ]
    },
    {
      "cell_type": "code",
      "execution_count": null,
      "metadata": {
        "id": "RblL6Hd_KyR9"
      },
      "outputs": [],
      "source": [
        "# Переменные чтобы индитефициовать лучшую локальную модель:\n",
        "best_model = None\n",
        "best_result = 0\n",
        "# Цикл для проверки разных \"лесов\"\n",
        "for est in range(1, 50):\n",
        "    # Обьявление модели с заданным кол-вом деревьев:\n",
        "    model = RandomForestClassifier(random_state=12345, n_estimators= est)\n",
        "    # Обучение модели:\n",
        "    model.fit(features_train, target_train)\n",
        "    # Качество модели на валидационной выборке:\n",
        "    result = model.score(features_valid, target_valid)\n",
        "    # Для поиска лучшей модели:\n",
        "    if result > best_result:\n",
        "            best_model = model\n",
        "            best_result = result\n",
        "            best_est = est\n",
        "            best_depth = depth\n",
        "# Вывод:\n",
        "print(\"Accuracy наилучшей модели на валидационной выборке:\", best_result, \"Количество деревьев:\", best_est, \"Максимальная глубина:\", depth)"
      ]
    },
    {
      "cell_type": "markdown",
      "metadata": {
        "id": "mcX9RBmnKyR-"
      },
      "source": [
        "P.s. До Ohe и добавление столбцов от туда в масштабирование лучшим показателем была модель: кол-во деревьев 45, макс глубина 15. Заменяем.\n",
        "P.P.S. Заменая на медианы в tenure 44 дерева. По итогу замены: Дерево решений ухудшилось, лес улучшился , лог-регрессия практически не изменилась.\n",
        "P.P.P.S. Удаление пропусков в tenure: 39 дерева. Итог: Удаление пропусков является наилучшим решением."
      ]
    },
    {
      "cell_type": "code",
      "execution_count": null,
      "metadata": {
        "id": "lMRgh6ZhKyR-"
      },
      "outputs": [],
      "source": [
        "# Инициализация лучшей модели из предыдущего блока:\n",
        "model = RandomForestClassifier(random_state=12345, n_estimators=39, max_depth=15 )\n",
        "# Обучение данной модели:\n",
        "model.fit(features_train, target_train)\n",
        "# Предсказание:\n",
        "predictions_valid = model.predict(features_valid)\n",
        "# Вывод качества для сравнения:\n",
        "cchoosee(model, features_valid, target_valid, predictions_valid)\n",
        "# Сохраним первую лучшую модель для исследования улучшения:\n",
        "best_model = joblib.dump(model, 'model.joblib')"
      ]
    },
    {
      "cell_type": "markdown",
      "metadata": {
        "id": "sQaau1i-KyR_"
      },
      "source": [
        "## Логическая регрессия:"
      ]
    },
    {
      "cell_type": "code",
      "execution_count": null,
      "metadata": {
        "id": "uDjQ6xvTKyR_"
      },
      "outputs": [],
      "source": [
        "# Обьявление модели:\n",
        "model = LogisticRegression(random_state=12345, solver='lbfgs', max_iter=1000)\n",
        "# Обучение модели:\n",
        "model.fit(features_train, target_train)\n",
        "# Предсказание модели:\n",
        "predictions_valid = model.predict(features_valid)\n",
        "# Вывод качества модели:\n",
        "cchoosee(model, features_valid, target_valid, predictions_valid)"
      ]
    },
    {
      "cell_type": "markdown",
      "metadata": {
        "id": "Q0sgf4ekKySB"
      },
      "source": [
        "## Вывод:\n",
        "По итогу первого анализа моделей:\n",
        "\n",
        "##### Самой успешной моделю является: Random Forest с кол-вом деревьев 39 и максимальной глубиной 15.\n",
        "Значения её метрик:\n",
        "\n",
        "Auc-roc метрика равна: 0.8572572465702236.  \n",
        "f-1 метрика равна: 0.5808580858085809\n",
        "\n",
        "#### Дальше идёт дерево решение с максимальной глуибной 6.\n",
        "Значения её метрик:\n",
        "\n",
        "Auc-roc метрика равна: 0.8500497922714295.  \n",
        "f-1 метрика равна: 0.5616438356164384\n",
        "\n",
        "#### Хуже всех справилась Логическая регрессия:\n",
        "\n",
        "Auc-roc метрика равна: 0.7736283195614597.  \n",
        "f-1 метрика равна: 0.3033932135728543"
      ]
    },
    {
      "cell_type": "markdown",
      "metadata": {
        "id": "mLccqBb_KySC"
      },
      "source": [
        "# Улучшение модели:"
      ]
    },
    {
      "cell_type": "markdown",
      "metadata": {
        "id": "gROyBNaqKySC"
      },
      "source": [
        "## Исследование баланса:"
      ]
    },
    {
      "cell_type": "code",
      "execution_count": null,
      "metadata": {
        "id": "QmPagKCIKySC",
        "outputId": "4f399701-92df-48de-bad2-13a49e1d9cbe"
      },
      "outputs": [
        {
          "name": "stdout",
          "output_type": "stream",
          "text": [
            "Отношение 0 к 1 в целевом признаке равно: 3.9034519956850056\n"
          ]
        }
      ],
      "source": [
        "zero, one = target.value_counts()\n",
        "print(\"Отношение 0 к 1 в целевом признаке равно:\", zero/one)"
      ]
    },
    {
      "cell_type": "markdown",
      "metadata": {
        "id": "uVuuIUAvKySD"
      },
      "source": [
        "#### Вывод:\n",
        "В целевом признаке : В целом отрицательных значений почти в 4 раза меньше чем положительных, это может значительно повлиять на обучение моделей. (негативно) Ткк в таком случае модель в общем чаще будет предсказывать отрицательные варианты. Рост как TN так и FN - лишнее и такого может быть много из-за дисбаланса классов."
      ]
    },
    {
      "cell_type": "markdown",
      "metadata": {
        "id": "OxXdU204KySD"
      },
      "source": [
        "## Увелечение выборки:\n",
        "Разделим обучающую выборку на Negative/Positive\n",
        "\n",
        "Увеличим кол-во положительных ответов до значения отрицательных в 3.9 раз\n",
        "\n",
        "Сделаем слияние и \"тряску\" значений в выборках и проведем на них обучение."
      ]
    },
    {
      "cell_type": "markdown",
      "metadata": {
        "id": "MmfBZD-1KySE"
      },
      "source": [
        "### Создание функции для увелечения положительных данных:"
      ]
    },
    {
      "cell_type": "code",
      "execution_count": null,
      "metadata": {
        "id": "6wHRE1SEKySE"
      },
      "outputs": [],
      "source": [
        "def up_sample(features, target, repeat):\n",
        "    # Разделение данных на положительные и негативные:\n",
        "    features_zeros = features[target == 0]\n",
        "    features_ones = features[target == 1]\n",
        "    target_zeros = target[target == 0]\n",
        "    target_ones = target[target == 1]\n",
        "    # Увеличение кол-ва положительных данных:\n",
        "    features_upsample = pd.concat([features_zeros] + [features_ones] * repeat)\n",
        "    target_upsample = pd.concat([target_zeros] + [target_ones] * repeat)\n",
        "    # \"Трясём\" данные для лучшего обучения:\n",
        "    features_upsample, target_upsample = shuffle(features_upsample, target_upsample, random_state=12345)\n",
        "    return features_upsample, target_upsample"
      ]
    },
    {
      "cell_type": "code",
      "execution_count": null,
      "metadata": {
        "scrolled": false,
        "id": "pPoPXjE3KySF"
      },
      "outputs": [],
      "source": [
        "# Создание увеличенной тренировачной выборки:\n",
        "feat_train_up, target_train_up = up_sample(features_train, target_train, repeat=4)"
      ]
    },
    {
      "cell_type": "code",
      "execution_count": null,
      "metadata": {
        "id": "Io4JCXhWKySG",
        "outputId": "d756a4eb-67f0-4f8d-eae4-ea3e1759d646"
      },
      "outputs": [
        {
          "data": {
            "image/png": "[encoded data removed]",
            "text/plain": [
              "<Figure size 432x288 with 1 Axes>"
            ]
          },
          "metadata": {
            "needs_background": "light"
          },
          "output_type": "display_data"
        },
        {
          "name": "stdout",
          "output_type": "stream",
          "text": [
            "Auc-roc метрика равна: 0.8531753847626445\n",
            "f-1 метрика равна: 0.615819209039548\n"
          ]
        }
      ],
      "source": [
        "# Инициализация модели для проверки:\n",
        "model = joblib.load('model.joblib')\n",
        "# Обучение модели\n",
        "model.fit(feat_train_up, target_train_up)\n",
        "# Предсказание:\n",
        "predictions_valid = model.predict(features_valid)\n",
        "# Вывод качества для сравнения:\n",
        "cchoosee(model, features_valid, target_valid, predictions_valid)"
      ]
    },
    {
      "cell_type": "markdown",
      "metadata": {
        "id": "sXyFcjyeKySH"
      },
      "source": [
        "## Уменьшение выборки:\n",
        "Тут будет всё тоже самое только вместо увелечения ответов иx уменьшение:"
      ]
    },
    {
      "cell_type": "code",
      "execution_count": null,
      "metadata": {
        "id": "LWjsBW9SKySH",
        "outputId": "14fa397e-a5d3-4660-9e73-448887eee34d"
      },
      "outputs": [
        {
          "name": "stdout",
          "output_type": "stream",
          "text": [
            "Доля ответов которых нужно оставить: 0.25641025641025644\n"
          ]
        }
      ],
      "source": [
        "# Создание функции для уменьшения выборки:\n",
        "def down_sample(features, target, fraction):\n",
        "    # Разделение данных на положительные и негативные:\n",
        "    features_zeros = features[target == 0]\n",
        "    features_ones = features[target == 1]\n",
        "    target_zeros = target[target == 0]\n",
        "    target_ones = target[target == 1]\n",
        "    # Умеьшение кол-ва негативных данных:\n",
        "    features_downsampled = pd.concat(\n",
        "        [features_zeros.sample(frac=fraction, random_state=12345)] + [features_ones])\n",
        "    target_downsampled = pd.concat(\n",
        "        [target_zeros.sample(frac=fraction, random_state=12345)] + [target_ones])\n",
        "    # \"Трясём\" данные для лучшего обучения:\n",
        "    features_downsampled, target_downsampled = shuffle(\n",
        "        features_downsampled, target_downsampled, random_state=12345)\n",
        "\n",
        "    return features_downsampled, target_downsampled\n",
        "print(\"Доля ответов которых нужно оставить:\", 1/3.9)"
      ]
    },
    {
      "cell_type": "code",
      "execution_count": null,
      "metadata": {
        "id": "immL-RCvKySH"
      },
      "outputs": [],
      "source": [
        "# Создание Уменьшённой тренировачной выборки:\n",
        "feat_train_down, target_train_down = down_sample(features_train, target_train, fraction=0.25641025641025644)"
      ]
    },
    {
      "cell_type": "code",
      "execution_count": null,
      "metadata": {
        "id": "boUrt6W1KySI",
        "outputId": "9d22201c-6000-4fee-d4f8-ee62c3091b4b"
      },
      "outputs": [
        {
          "data": {
            "image/png": "[encoded data removed]",
            "text/plain": [
              "<Figure size 432x288 with 1 Axes>"
            ]
          },
          "metadata": {
            "needs_background": "light"
          },
          "output_type": "display_data"
        },
        {
          "name": "stdout",
          "output_type": "stream",
          "text": [
            "Auc-roc метрика равна: 0.8522347618162307\n",
            "f-1 метрика равна: 0.5807730426164519\n"
          ]
        }
      ],
      "source": [
        "model = joblib.load('model.joblib')\n",
        "# Обучение модели\n",
        "model.fit(feat_train_down, target_train_down)\n",
        "# Предсказание:\n",
        "predictions_valid = model.predict(features_valid)\n",
        "# Вывод качества для сравнения:\n",
        "cchoosee(model, features_valid, target_valid, predictions_valid)"
      ]
    },
    {
      "cell_type": "markdown",
      "metadata": {
        "id": "MRNngaoRKySI"
      },
      "source": [
        "## Изменение порога классификации:"
      ]
    },
    {
      "cell_type": "code",
      "execution_count": null,
      "metadata": {
        "id": "vFdqHT7AKySI",
        "outputId": "778627cd-db6a-4158-e048-3019bb091fcc"
      },
      "outputs": [
        {
          "name": "stdout",
          "output_type": "stream",
          "text": [
            "Порог: 0.2 f-1: 0.4273204903677759\n",
            "Порог: 0.22 f-1: 0.44174757281553406\n",
            "Порог: 0.24 f-1: 0.4514501891551072\n",
            "Порог: 0.26 f-1: 0.4637491835401698\n",
            "Порог: 0.27999999999999997 f-1: 0.46956521739130436\n",
            "Порог: 0.29999999999999993 f-1: 0.4793388429752066\n",
            "Порог: 0.31999999999999995 f-1: 0.4908062234794908\n",
            "Порог: 0.33999999999999997 f-1: 0.5058651026392962\n",
            "Порог: 0.35999999999999993 f-1: 0.5152439024390244\n",
            "Порог: 0.3799999999999999 f-1: 0.525984251968504\n",
            "Порог: 0.3999999999999999 f-1: 0.530179445350734\n",
            "Порог: 0.41999999999999993 f-1: 0.5446808510638297\n",
            "Порог: 0.4399999999999999 f-1: 0.5550660792951542\n",
            "Порог: 0.4599999999999999 f-1: 0.562329390354868\n",
            "Порог: 0.47999999999999987 f-1: 0.5700667302192564\n",
            "Порог: 0.49999999999999983 f-1: 0.579624134520277\n",
            "Порог: 0.5199999999999998 f-1: 0.5917525773195876\n",
            "Порог: 0.5399999999999998 f-1: 0.6086021505376344\n",
            "Порог: 0.5599999999999998 f-1: 0.6126526082130965\n",
            "Порог: 0.5799999999999998 f-1: 0.6137931034482758\n",
            "Порог: 0.5999999999999999 f-1: 0.6148325358851674\n",
            "Порог: 0.6199999999999999 f-1: 0.6082603254067586\n",
            "Порог: 0.6399999999999998 f-1: 0.6063694267515923\n",
            "Порог: 0.6599999999999997 f-1: 0.6008010680907878\n",
            "Порог: 0.6799999999999997 f-1: 0.6027777777777779\n",
            "Порог: 0.6999999999999997 f-1: 0.5855072463768116\n",
            "Порог: 0.7199999999999998 f-1: 0.5658093797276854\n",
            "Порог: 0.7399999999999998 f-1: 0.5550387596899226\n",
            "Порог: 0.7599999999999998 f-1: 0.5313531353135313\n",
            "Порог: 0.7799999999999998 f-1: 0.5172413793103448\n",
            "Порог: 0.7999999999999996 f-1: 0.49197860962566853\n",
            "Лучшее значение f1: 0.6148325358851674 Достигается при пороге: 0.5999999999999999\n"
          ]
        }
      ],
      "source": [
        "probabilities_valid = model.predict_proba(features_valid)\n",
        "probabilities_one_valid = probabilities_valid[:, 1]\n",
        "best_threshold = 0\n",
        "best_f1 = 0\n",
        "for threshold in np.arange(0.2, 0.8, 0.02):\n",
        "    predicted_valid = probabilities_one_valid > threshold\n",
        "    f1 = f1_score(target_valid, predicted_valid)\n",
        "\n",
        "    print('Порог:', threshold, 'f-1:', f1)\n",
        "    if f1 > best_f1:\n",
        "        best_f1 = f1\n",
        "        best_threshold = threshold\n",
        "print(\"Лучшее значение f1:\", best_f1, \"Достигается при пороге:\", best_threshold)"
      ]
    },
    {
      "cell_type": "markdown",
      "metadata": {
        "id": "vaUw9nxQKySJ"
      },
      "source": [
        "### Вывод:\n",
        "Лучшее улучшение Достигается за счёт увелечения выборки, f1-метрика выросла до 0.615, что на 0,0315 больше чем без улучшения. Дальше идёт изменения порога классификации, чуть-чуть отстает от увелечения: f1-метрика выросла до 0.6148. Хуже всех показало себя уменьшение выборки.\n",
        "\n",
        "Остановимся на увелечении выборки: будем обучать модели на увеличенной выборке."
      ]
    },
    {
      "cell_type": "markdown",
      "metadata": {
        "id": "w0eHBNCjKySJ"
      },
      "source": [
        "# Финальное тестирование:"
      ]
    },
    {
      "cell_type": "markdown",
      "metadata": {
        "id": "rcnz-lSBKySJ"
      },
      "source": [
        "## Дерево решений:"
      ]
    },
    {
      "cell_type": "code",
      "execution_count": null,
      "metadata": {
        "id": "YdJ16efJKySJ",
        "outputId": "c89be351-d6d3-4024-e5dd-63339882a89d"
      },
      "outputs": [
        {
          "name": "stdout",
          "output_type": "stream",
          "text": [
            "f-1            : 0.537864077669903\n",
            "Precision      : 0.40795287187039764\n",
            "Recall         : 0.7891737891737892\n",
            "Accuracy       : 0.7383177570093458\n",
            "Матрица ошибок:\n",
            "[[1066  402]\n",
            " [  74  277]]\n"
          ]
        }
      ],
      "source": [
        "# Обьявление модели:\n",
        "model = DecisionTreeClassifier(random_state=12345, max_depth = 6)\n",
        "# Обучение данной модели на увеличенной выборке:\n",
        "model.fit(feat_train_up, target_train_up)\n",
        "# Предсказание:\n",
        "predictions_test = model.predict(features_test)\n",
        "# Вывод качества модели:\n",
        "print('f-1            :', f1_score(target_test, predictions_test))\n",
        "print('Precision      :', precision_score(target_test, predictions_test))\n",
        "print('Recall         :', recall_score(target_test, predictions_test))\n",
        "print('Accuracy       :', accuracy_score(target_test, predictions_test))\n",
        "print('Матрица ошибок:')\n",
        "print(confusion_matrix(target_test, predictions_test))"
      ]
    },
    {
      "cell_type": "markdown",
      "metadata": {
        "id": "2U0LbCVfKySK"
      },
      "source": [
        "## Random Forest:"
      ]
    },
    {
      "cell_type": "code",
      "execution_count": null,
      "metadata": {
        "id": "gsFDn0meKySK",
        "outputId": "eba97ef9-8b53-426b-df78-6a24f59906f6"
      },
      "outputs": [
        {
          "name": "stdout",
          "output_type": "stream",
          "text": [
            "f-1            : 0.592485549132948\n",
            "Precision      : 0.6011730205278593\n",
            "Recall         : 0.584045584045584\n",
            "Accuracy       : 0.8449697636063771\n",
            "Матрица ошибок:\n",
            "[[1332  136]\n",
            " [ 146  205]]\n"
          ]
        }
      ],
      "source": [
        "# Обьявление модели:\n",
        "model = joblib.load('model.joblib')\n",
        "# Обучение данной модели на увеличенной выборке:\n",
        "model.fit(feat_train_up, target_train_up)\n",
        "# Предсказание модели:\n",
        "predictions_test = model.predict(features_test)\n",
        "# Вывод качества модели:\n",
        "print('f-1            :', f1_score(target_test, predictions_test))\n",
        "print('Precision      :', precision_score(target_test, predictions_test))\n",
        "print('Recall         :', recall_score(target_test, predictions_test))\n",
        "print('Accuracy       :', accuracy_score(target_test, predictions_test))\n",
        "print('Матрица ошибок:')\n",
        "print(confusion_matrix(target_test, predictions_test))"
      ]
    },
    {
      "cell_type": "markdown",
      "metadata": {
        "id": "_8YdRaZCKySK"
      },
      "source": [
        "## Логическая регрессия:"
      ]
    },
    {
      "cell_type": "code",
      "execution_count": null,
      "metadata": {
        "id": "MId-JoJVKySL",
        "outputId": "86ff7bb2-d456-4683-b71b-52ef7949cc7b"
      },
      "outputs": [
        {
          "name": "stdout",
          "output_type": "stream",
          "text": [
            "f-1            : 0.4975320829220138\n",
            "Precision      : 0.3806646525679758\n",
            "Recall         : 0.717948717948718\n",
            "Accuracy       : 0.720175920835624\n",
            "Матрица ошибок:\n",
            "[[1058  410]\n",
            " [  99  252]]\n"
          ]
        }
      ],
      "source": [
        "# Обьявление модели:\n",
        "model = LogisticRegression(random_state=12345, solver='lbfgs', max_iter=1000)\n",
        "# Обучение данной модели на увеличенной выборке:\n",
        "model.fit(feat_train_up, target_train_up)\n",
        "# Предсказание модели:\n",
        "predictions_test = model.predict(features_test)\n",
        "# Вывод качества модели:\n",
        "print('f-1            :', f1_score(target_test, predictions_test))\n",
        "print('Precision      :', precision_score(target_test, predictions_test))\n",
        "print('Recall         :', recall_score(target_test, predictions_test))\n",
        "print('Accuracy       :', accuracy_score(target_test, predictions_test))\n",
        "print('Матрица ошибок:')\n",
        "print(confusion_matrix(target_test, predictions_test))"
      ]
    },
    {
      "cell_type": "markdown",
      "metadata": {
        "id": "65ZvpX7aKySL"
      },
      "source": [
        "### Вывод:\n",
        "Как и до улучшения: Лучше всех себя показа модель Random Forest, но на тестовой выборке она значительно лучше остальных моделей. Мы достигли значения f-1 метрики чуть больше 0.59"
      ]
    },
    {
      "cell_type": "markdown",
      "metadata": {
        "id": "sJ5_1JHXKySL"
      },
      "source": [
        "# Вывод:\n",
        "## Лучшая модель - Random Forest с кол-вом деревьев 39, макс глубина 15.\n",
        "\n",
        "## В данном проекте были предприняты следующие шаги:\n",
        "\n",
        "### 1.) Полученна и анализирована общая информация о данных.\n",
        "\n",
        "### 2.) Данные разделены на 3 выборки: обучающую, валидационную и тестовую.\n",
        "\n",
        "### 3.) Проведенно исследование 3х моделий обучений, выяснено какая из них лучше. ( без учёта баланса классов)\n",
        "\n",
        "### 4.) Исследован баланс классов. Улучшена обучающая выборка.\n",
        "\n",
        "### 5.) Модели переобучили с улучшенной обучающей выборки.\n",
        "\n",
        "### 6.) Качество моделей проверено с помощью тестовой выборки, Достигнута f-1 метрика в 0.59 ."
      ]
    }
  ],
  "metadata": {
    "ExecuteTimeLog": [
      {
        "duration": 1344,
        "start_time": "2022-06-19T05:36:27.698Z"
      },
      {
        "duration": 68,
        "start_time": "2022-06-19T05:36:29.044Z"
      },
      {
        "duration": 5,
        "start_time": "2022-06-19T05:36:29.113Z"
      },
      {
        "duration": 25,
        "start_time": "2022-06-19T05:36:29.119Z"
      },
      {
        "duration": 30,
        "start_time": "2022-06-19T05:37:07.776Z"
      },
      {
        "duration": 27,
        "start_time": "2022-06-19T05:37:35.125Z"
      },
      {
        "duration": 1620,
        "start_time": "2022-06-20T08:26:17.372Z"
      },
      {
        "duration": 183,
        "start_time": "2022-06-20T08:26:18.995Z"
      },
      {
        "duration": 5,
        "start_time": "2022-06-20T08:26:19.180Z"
      },
      {
        "duration": 33,
        "start_time": "2022-06-20T08:26:19.186Z"
      },
      {
        "duration": 31,
        "start_time": "2022-06-20T08:26:19.222Z"
      },
      {
        "duration": 5,
        "start_time": "2022-06-20T08:26:19.255Z"
      },
      {
        "duration": 10,
        "start_time": "2022-06-20T08:26:19.262Z"
      },
      {
        "duration": 7,
        "start_time": "2022-06-20T08:26:19.274Z"
      },
      {
        "duration": 65,
        "start_time": "2022-06-20T08:26:19.283Z"
      },
      {
        "duration": 5,
        "start_time": "2022-06-20T08:26:19.349Z"
      },
      {
        "duration": 308,
        "start_time": "2022-06-20T08:26:19.356Z"
      },
      {
        "duration": 188,
        "start_time": "2022-06-20T08:26:19.666Z"
      },
      {
        "duration": 7409,
        "start_time": "2022-06-20T08:26:23.776Z"
      },
      {
        "duration": 1031,
        "start_time": "2022-06-20T08:26:36.279Z"
      },
      {
        "duration": 506,
        "start_time": "2022-06-20T08:26:39.775Z"
      },
      {
        "duration": 5,
        "start_time": "2022-06-20T08:27:00.462Z"
      },
      {
        "duration": 4,
        "start_time": "2022-06-20T08:27:10.810Z"
      },
      {
        "duration": 126,
        "start_time": "2022-06-20T08:27:14.400Z"
      },
      {
        "duration": 19,
        "start_time": "2022-06-20T08:27:24.398Z"
      },
      {
        "duration": 11,
        "start_time": "2022-06-20T08:29:54.506Z"
      },
      {
        "duration": 17,
        "start_time": "2022-06-20T08:30:42.465Z"
      },
      {
        "duration": 16,
        "start_time": "2022-06-20T08:31:05.767Z"
      },
      {
        "duration": 11,
        "start_time": "2022-06-20T08:31:18.165Z"
      },
      {
        "duration": 16,
        "start_time": "2022-06-20T08:31:26.464Z"
      },
      {
        "duration": 17,
        "start_time": "2022-06-20T08:31:31.624Z"
      },
      {
        "duration": 12,
        "start_time": "2022-06-20T08:33:10.502Z"
      },
      {
        "duration": 17,
        "start_time": "2022-06-20T08:33:15.717Z"
      },
      {
        "duration": 17,
        "start_time": "2022-06-20T08:33:24.318Z"
      },
      {
        "duration": 27,
        "start_time": "2022-06-20T08:33:31.051Z"
      },
      {
        "duration": 19,
        "start_time": "2022-06-20T08:33:51.213Z"
      },
      {
        "duration": 13,
        "start_time": "2022-06-20T08:33:58.476Z"
      },
      {
        "duration": 16,
        "start_time": "2022-06-20T08:35:01.394Z"
      },
      {
        "duration": 30,
        "start_time": "2022-06-20T08:35:09.515Z"
      },
      {
        "duration": 4,
        "start_time": "2022-06-20T08:36:20.969Z"
      },
      {
        "duration": 8,
        "start_time": "2022-06-20T08:36:23.977Z"
      },
      {
        "duration": 6,
        "start_time": "2022-06-20T08:36:31.857Z"
      },
      {
        "duration": 16,
        "start_time": "2022-06-20T08:36:34.224Z"
      },
      {
        "duration": 16,
        "start_time": "2022-06-20T08:36:46.528Z"
      },
      {
        "duration": 5,
        "start_time": "2022-06-20T08:37:08.632Z"
      },
      {
        "duration": 8,
        "start_time": "2022-06-20T08:37:14.487Z"
      },
      {
        "duration": 602,
        "start_time": "2022-06-20T08:53:00.160Z"
      },
      {
        "duration": 88,
        "start_time": "2022-06-20T08:53:06.111Z"
      },
      {
        "duration": 129,
        "start_time": "2022-06-20T08:53:09.854Z"
      }
    ],
    "kernelspec": {
      "display_name": "Python 3 (ipykernel)",
      "language": "python",
      "name": "python3"
    },
    "language_info": {
      "codemirror_mode": {
        "name": "ipython",
        "version": 3
      },
      "file_extension": ".py",
      "mimetype": "text/x-python",
      "name": "python",
      "nbconvert_exporter": "python",
      "pygments_lexer": "ipython3",
      "version": "3.9.5"
    },
    "toc": {
      "base_numbering": 1,
      "nav_menu": {},
      "number_sections": true,
      "sideBar": true,
      "skip_h1_title": true,
      "title_cell": "Table of Contents",
      "title_sidebar": "Contents",
      "toc_cell": false,
      "toc_position": {},
      "toc_section_display": true,
      "toc_window_display": false
    },
    "colab": {
      "provenance": []
    }
  },
  "nbformat": 4,
  "nbformat_minor": 0
}